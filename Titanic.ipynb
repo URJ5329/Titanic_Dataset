{
  "nbformat": 4,
  "nbformat_minor": 0,
  "metadata": {
    "colab": {
      "name": "Titanic.ipynb",
      "provenance": [],
      "collapsed_sections": []
    },
    "kernelspec": {
      "name": "python3",
      "display_name": "Python 3"
    }
  },
  "cells": [
    {
      "cell_type": "code",
      "metadata": {
        "id": "LtXjBsT_NZlt"
      },
      "source": [
        "import numpy as np\n",
        "import pandas as pd\n",
        "import seaborn as sns\n",
        "import matplotlib.pyplot as plt\n"
      ],
      "execution_count": null,
      "outputs": []
    },
    {
      "cell_type": "code",
      "metadata": {
        "colab": {
          "base_uri": "https://localhost:8080/",
          "height": 255
        },
        "id": "4ugOkVonN2ww",
        "outputId": "acc1abea-7783-418d-ad22-82c4b9b49522"
      },
      "source": [
        "gender_dataset = pd.read_csv('gender_submission.csv')\n",
        "training_set = pd.read_csv('train.csv')\n",
        "test_set = pd.read_csv('test.csv')\n",
        "training_set.head()"
      ],
      "execution_count": null,
      "outputs": [
        {
          "output_type": "execute_result",
          "data": {
            "text/html": [
              "<div>\n",
              "<style scoped>\n",
              "    .dataframe tbody tr th:only-of-type {\n",
              "        vertical-align: middle;\n",
              "    }\n",
              "\n",
              "    .dataframe tbody tr th {\n",
              "        vertical-align: top;\n",
              "    }\n",
              "\n",
              "    .dataframe thead th {\n",
              "        text-align: right;\n",
              "    }\n",
              "</style>\n",
              "<table border=\"1\" class=\"dataframe\">\n",
              "  <thead>\n",
              "    <tr style=\"text-align: right;\">\n",
              "      <th></th>\n",
              "      <th>PassengerId</th>\n",
              "      <th>Survived</th>\n",
              "      <th>Pclass</th>\n",
              "      <th>Name</th>\n",
              "      <th>Sex</th>\n",
              "      <th>Age</th>\n",
              "      <th>SibSp</th>\n",
              "      <th>Parch</th>\n",
              "      <th>Ticket</th>\n",
              "      <th>Fare</th>\n",
              "      <th>Cabin</th>\n",
              "      <th>Embarked</th>\n",
              "    </tr>\n",
              "  </thead>\n",
              "  <tbody>\n",
              "    <tr>\n",
              "      <th>0</th>\n",
              "      <td>1</td>\n",
              "      <td>0</td>\n",
              "      <td>3</td>\n",
              "      <td>Braund, Mr. Owen Harris</td>\n",
              "      <td>male</td>\n",
              "      <td>22.0</td>\n",
              "      <td>1</td>\n",
              "      <td>0</td>\n",
              "      <td>A/5 21171</td>\n",
              "      <td>7.2500</td>\n",
              "      <td>NaN</td>\n",
              "      <td>S</td>\n",
              "    </tr>\n",
              "    <tr>\n",
              "      <th>1</th>\n",
              "      <td>2</td>\n",
              "      <td>1</td>\n",
              "      <td>1</td>\n",
              "      <td>Cumings, Mrs. John Bradley (Florence Briggs Th...</td>\n",
              "      <td>female</td>\n",
              "      <td>38.0</td>\n",
              "      <td>1</td>\n",
              "      <td>0</td>\n",
              "      <td>PC 17599</td>\n",
              "      <td>71.2833</td>\n",
              "      <td>C85</td>\n",
              "      <td>C</td>\n",
              "    </tr>\n",
              "    <tr>\n",
              "      <th>2</th>\n",
              "      <td>3</td>\n",
              "      <td>1</td>\n",
              "      <td>3</td>\n",
              "      <td>Heikkinen, Miss. Laina</td>\n",
              "      <td>female</td>\n",
              "      <td>26.0</td>\n",
              "      <td>0</td>\n",
              "      <td>0</td>\n",
              "      <td>STON/O2. 3101282</td>\n",
              "      <td>7.9250</td>\n",
              "      <td>NaN</td>\n",
              "      <td>S</td>\n",
              "    </tr>\n",
              "    <tr>\n",
              "      <th>3</th>\n",
              "      <td>4</td>\n",
              "      <td>1</td>\n",
              "      <td>1</td>\n",
              "      <td>Futrelle, Mrs. Jacques Heath (Lily May Peel)</td>\n",
              "      <td>female</td>\n",
              "      <td>35.0</td>\n",
              "      <td>1</td>\n",
              "      <td>0</td>\n",
              "      <td>113803</td>\n",
              "      <td>53.1000</td>\n",
              "      <td>C123</td>\n",
              "      <td>S</td>\n",
              "    </tr>\n",
              "    <tr>\n",
              "      <th>4</th>\n",
              "      <td>5</td>\n",
              "      <td>0</td>\n",
              "      <td>3</td>\n",
              "      <td>Allen, Mr. William Henry</td>\n",
              "      <td>male</td>\n",
              "      <td>35.0</td>\n",
              "      <td>0</td>\n",
              "      <td>0</td>\n",
              "      <td>373450</td>\n",
              "      <td>8.0500</td>\n",
              "      <td>NaN</td>\n",
              "      <td>S</td>\n",
              "    </tr>\n",
              "  </tbody>\n",
              "</table>\n",
              "</div>"
            ],
            "text/plain": [
              "   PassengerId  Survived  Pclass  ...     Fare Cabin  Embarked\n",
              "0            1         0       3  ...   7.2500   NaN         S\n",
              "1            2         1       1  ...  71.2833   C85         C\n",
              "2            3         1       3  ...   7.9250   NaN         S\n",
              "3            4         1       1  ...  53.1000  C123         S\n",
              "4            5         0       3  ...   8.0500   NaN         S\n",
              "\n",
              "[5 rows x 12 columns]"
            ]
          },
          "metadata": {
            "tags": []
          },
          "execution_count": 2
        }
      ]
    },
    {
      "cell_type": "code",
      "metadata": {
        "id": "72k7i99JQlEI"
      },
      "source": [
        "# x_train = training_set.iloc[:, [0,2,4,5,6,7,8,9,11]]\n",
        "# y_train = training_set.iloc[:,1:2]"
      ],
      "execution_count": null,
      "outputs": []
    },
    {
      "cell_type": "code",
      "metadata": {
        "id": "Gj8zZN8WkMce"
      },
      "source": [
        "# x_test = test_set.iloc[:, [0,1,3,4,5,6,7,8,9,10]]\n",
        "# y_test = gender_dataset.iloc[:,1]"
      ],
      "execution_count": null,
      "outputs": []
    },
    {
      "cell_type": "code",
      "metadata": {
        "colab": {
          "base_uri": "https://localhost:8080/"
        },
        "id": "zDY8fq-ZaeqS",
        "outputId": "fdddfc68-1d13-493e-d62d-283a5bec51f0"
      },
      "source": [
        "training_set.columns"
      ],
      "execution_count": null,
      "outputs": [
        {
          "output_type": "execute_result",
          "data": {
            "text/plain": [
              "Index(['PassengerId', 'Survived', 'Pclass', 'Name', 'Sex', 'Age', 'SibSp',\n",
              "       'Parch', 'Ticket', 'Fare', 'Cabin', 'Embarked'],\n",
              "      dtype='object')"
            ]
          },
          "metadata": {
            "tags": []
          },
          "execution_count": 5
        }
      ]
    },
    {
      "cell_type": "markdown",
      "metadata": {
        "id": "NCj02Sdwd_J4"
      },
      "source": [
        "# Data Preprocessing"
      ]
    },
    {
      "cell_type": "markdown",
      "metadata": {
        "id": "gIlRu6NSeETa"
      },
      "source": [
        "## Eliminating missing Data"
      ]
    },
    {
      "cell_type": "code",
      "metadata": {
        "id": "qlSDzkRfkEi_"
      },
      "source": [
        "from sklearn.impute import SimpleImputer\n",
        "imputer_age = SimpleImputer(missing_values=np.nan, strategy='median')\n",
        "imputer_embarked = SimpleImputer(missing_values=np.nan, strategy='most_frequent')\n",
        "imputer_fare = SimpleImputer(missing_values=np.nan, strategy='most_frequent')"
      ],
      "execution_count": null,
      "outputs": []
    },
    {
      "cell_type": "markdown",
      "metadata": {
        "id": "ihngy8rKeaqE"
      },
      "source": [
        "### Training set"
      ]
    },
    {
      "cell_type": "code",
      "metadata": {
        "id": "Rb-ggAQGaR1y"
      },
      "source": [
        "imputer_age.fit(training_set.iloc[:, 5:6])\n",
        "training_set.iloc[:, 5:6] = imputer_age.transform(training_set.iloc[:, 5:6])\n",
        "imputer_embarked.fit(training_set.iloc[:, 11:12])\n",
        "training_set.iloc[:, 11:12] = imputer_embarked.transform(training_set.iloc[:, 11:12])"
      ],
      "execution_count": null,
      "outputs": []
    },
    {
      "cell_type": "markdown",
      "metadata": {
        "id": "qurMDFArjmCi"
      },
      "source": [
        "### Test Set"
      ]
    },
    {
      "cell_type": "code",
      "metadata": {
        "id": "MeV1b35BjqfN"
      },
      "source": [
        "imputer_age.fit(test_set.iloc[:, 4:5])\n",
        "test_set.iloc[:, 4:5] = imputer_age.transform(test_set.iloc[:, 4:5])\n",
        "imputer_embarked.fit(test_set.iloc[:, 10:11])\n",
        "test_set.iloc[:, 10:11] = imputer_embarked.transform(test_set.iloc[:, 10:11])\n",
        "imputer_fare.fit(test_set.iloc[:, 8:9])\n",
        "test_set.iloc[:, 8:9] = imputer_fare.transform(test_set.iloc[:, 8:9])"
      ],
      "execution_count": null,
      "outputs": []
    },
    {
      "cell_type": "markdown",
      "metadata": {
        "id": "iD9qw3oJl-Fi"
      },
      "source": [
        "## Encoding Columns"
      ]
    },
    {
      "cell_type": "markdown",
      "metadata": {
        "id": "1-7Zu4IInMSh"
      },
      "source": [
        "### Training Set"
      ]
    },
    {
      "cell_type": "code",
      "metadata": {
        "id": "Cb0OiuggQVYb"
      },
      "source": [
        "from sklearn.compose import ColumnTransformer\n",
        "from sklearn.preprocessing import OneHotEncoder\n",
        "ct = ColumnTransformer(transformers=[('encoder', OneHotEncoder(), [2,4,11])], remainder='passthrough')\n",
        "training_set = np.array(ct.fit_transform(training_set))"
      ],
      "execution_count": null,
      "outputs": []
    },
    {
      "cell_type": "code",
      "metadata": {
        "id": "rIbSXmM9YEdg"
      },
      "source": [
        "# training_set = training_set[:, 1:19]"
      ],
      "execution_count": null,
      "outputs": []
    },
    {
      "cell_type": "code",
      "metadata": {
        "colab": {
          "base_uri": "https://localhost:8080/"
        },
        "id": "-pfMk7UM97oL",
        "outputId": "90cc1eaa-ff16-4886-8fb0-037b62155f69"
      },
      "source": [
        "print(training_set)"
      ],
      "execution_count": null,
      "outputs": [
        {
          "output_type": "stream",
          "text": [
            "[[0.0 0.0 1.0 ... 'A/5 21171' 7.25 nan]\n",
            " [1.0 0.0 0.0 ... 'PC 17599' 71.2833 'C85']\n",
            " [0.0 0.0 1.0 ... 'STON/O2. 3101282' 7.925 nan]\n",
            " ...\n",
            " [0.0 0.0 1.0 ... 'W./C. 6607' 23.45 nan]\n",
            " [1.0 0.0 0.0 ... '111369' 30.0 'C148']\n",
            " [0.0 0.0 1.0 ... '370376' 7.75 nan]]\n"
          ],
          "name": "stdout"
        }
      ]
    },
    {
      "cell_type": "code",
      "metadata": {
        "colab": {
          "base_uri": "https://localhost:8080/"
        },
        "id": "huRnPGzeUqi2",
        "outputId": "116ec7fd-bc42-4564-c085-1d66e3142cde"
      },
      "source": [
        "print(training_set.shape[1])"
      ],
      "execution_count": null,
      "outputs": [
        {
          "output_type": "stream",
          "text": [
            "17\n"
          ],
          "name": "stdout"
        }
      ]
    },
    {
      "cell_type": "markdown",
      "metadata": {
        "id": "inx0PdpfIK7E"
      },
      "source": [
        "### Test Set"
      ]
    },
    {
      "cell_type": "code",
      "metadata": {
        "id": "MFcoWYqHIYFm"
      },
      "source": [
        "ct1 = ColumnTransformer(transformers=[('encoder', OneHotEncoder(), [1,3,10])], remainder='passthrough')\n",
        "test_set = np.array(ct1.fit_transform(test_set))"
      ],
      "execution_count": null,
      "outputs": []
    },
    {
      "cell_type": "code",
      "metadata": {
        "colab": {
          "base_uri": "https://localhost:8080/"
        },
        "id": "jfuoWAIgJlQE",
        "outputId": "c90da17d-e822-4d41-9568-ac1bb11ef3bf"
      },
      "source": [
        "print(test_set.shape[1])"
      ],
      "execution_count": null,
      "outputs": [
        {
          "output_type": "stream",
          "text": [
            "16\n"
          ],
          "name": "stdout"
        }
      ]
    },
    {
      "cell_type": "markdown",
      "metadata": {
        "id": "yZESZSSOHM6V"
      },
      "source": [
        "### Removing Dummy Variables"
      ]
    },
    {
      "cell_type": "code",
      "metadata": {
        "id": "fe-iyAYNHSyS"
      },
      "source": [
        "training_set = training_set[:,[1,2,4,6,7,9,11,12,13,15,16]]"
      ],
      "execution_count": null,
      "outputs": []
    },
    {
      "cell_type": "code",
      "metadata": {
        "id": "nVnOMM8TJgfr"
      },
      "source": [
        "test_set = test_set[:,[1,2,4,6,7,10,11,12,14]]#if want cabin..inc. 15 too"
      ],
      "execution_count": null,
      "outputs": []
    },
    {
      "cell_type": "markdown",
      "metadata": {
        "id": "-9MR02jCMFlm"
      },
      "source": [
        "## Splitting the dataset"
      ]
    },
    {
      "cell_type": "markdown",
      "metadata": {
        "id": "Jx498DypMLU0"
      },
      "source": [
        "### Training Set"
      ]
    },
    {
      "cell_type": "code",
      "metadata": {
        "id": "yVisbIlqMQXp"
      },
      "source": [
        "x_train = training_set[:, [0,1,2,3,4,6,7,8,9]] #not inc. cabin\n",
        "y_train = training_set[:,5:6]\n",
        "y_train=y_train.astype('int')"
      ],
      "execution_count": null,
      "outputs": []
    },
    {
      "cell_type": "markdown",
      "metadata": {
        "id": "xVltkoRLOBZK"
      },
      "source": [
        "### Test Set"
      ]
    },
    {
      "cell_type": "code",
      "metadata": {
        "id": "K33BnNNlOHiG"
      },
      "source": [
        "x_test = test_set"
      ],
      "execution_count": null,
      "outputs": []
    },
    {
      "cell_type": "markdown",
      "metadata": {
        "id": "wPFdiZ-uOsAW"
      },
      "source": [
        "## Feature Scaling"
      ]
    },
    {
      "cell_type": "code",
      "metadata": {
        "id": "Z8_7dMopOxzc"
      },
      "source": [
        "from sklearn.preprocessing import StandardScaler\n",
        "sc = StandardScaler()"
      ],
      "execution_count": null,
      "outputs": []
    },
    {
      "cell_type": "markdown",
      "metadata": {
        "id": "PDVt5ttBPN4u"
      },
      "source": [
        "###   Training Set"
      ]
    },
    {
      "cell_type": "code",
      "metadata": {
        "id": "T8QmmNj0PWJO"
      },
      "source": [
        "x_train[:, [5,6,7,8]] = sc.fit_transform(x_train[:, [5,6,7,8]])"
      ],
      "execution_count": null,
      "outputs": []
    },
    {
      "cell_type": "markdown",
      "metadata": {
        "id": "FrGkG3k9PXaf"
      },
      "source": [
        "### Test Set"
      ]
    },
    {
      "cell_type": "code",
      "metadata": {
        "id": "FH6Z_w51PZvM"
      },
      "source": [
        "x_test[:, [5,6,7,8]] = sc.transform(x_test[:,[5,6,7,8]])"
      ],
      "execution_count": null,
      "outputs": []
    },
    {
      "cell_type": "code",
      "metadata": {
        "colab": {
          "base_uri": "https://localhost:8080/"
        },
        "id": "4WoLk8hVcH2m",
        "outputId": "95e31c15-b38f-469f-c8bf-65b13b7c006f"
      },
      "source": [
        "print(np.concatenate((x_train, y_train),1))"
      ],
      "execution_count": null,
      "outputs": [
        {
          "output_type": "stream",
          "text": [
            "[[0.0 1.0 1.0 ... -0.4736736092984604 -0.5024451714361923 0]\n",
            " [0.0 0.0 0.0 ... -0.4736736092984604 0.7868452935884461 1]\n",
            " [0.0 1.0 0.0 ... -0.4736736092984604 -0.4888542575852486 1]\n",
            " ...\n",
            " [0.0 1.0 0.0 ... 2.0089333664952354 -0.17626323901354432 0]\n",
            " [0.0 0.0 1.0 ... -0.4736736092984604 -0.04438103794142432 1]\n",
            " [0.0 1.0 1.0 ... -0.4736736092984604 -0.49237782784290063 0]]\n"
          ],
          "name": "stdout"
        }
      ]
    },
    {
      "cell_type": "markdown",
      "metadata": {
        "id": "RZ8_UFmIV4MS"
      },
      "source": [
        "# Model Selection"
      ]
    },
    {
      "cell_type": "code",
      "metadata": {
        "colab": {
          "base_uri": "https://localhost:8080/"
        },
        "id": "ihJpqBCPfezc",
        "outputId": "0b1bfc47-63cf-48aa-de8b-7b338815e640"
      },
      "source": [
        "!pip install catboost"
      ],
      "execution_count": null,
      "outputs": [
        {
          "output_type": "stream",
          "text": [
            "Requirement already satisfied: catboost in /usr/local/lib/python3.7/dist-packages (0.24.4)\n",
            "Requirement already satisfied: pandas>=0.24.0 in /usr/local/lib/python3.7/dist-packages (from catboost) (1.1.5)\n",
            "Requirement already satisfied: scipy in /usr/local/lib/python3.7/dist-packages (from catboost) (1.4.1)\n",
            "Requirement already satisfied: six in /usr/local/lib/python3.7/dist-packages (from catboost) (1.15.0)\n",
            "Requirement already satisfied: plotly in /usr/local/lib/python3.7/dist-packages (from catboost) (4.4.1)\n",
            "Requirement already satisfied: matplotlib in /usr/local/lib/python3.7/dist-packages (from catboost) (3.2.2)\n",
            "Requirement already satisfied: numpy>=1.16.0 in /usr/local/lib/python3.7/dist-packages (from catboost) (1.19.5)\n",
            "Requirement already satisfied: graphviz in /usr/local/lib/python3.7/dist-packages (from catboost) (0.10.1)\n",
            "Requirement already satisfied: pytz>=2017.2 in /usr/local/lib/python3.7/dist-packages (from pandas>=0.24.0->catboost) (2018.9)\n",
            "Requirement already satisfied: python-dateutil>=2.7.3 in /usr/local/lib/python3.7/dist-packages (from pandas>=0.24.0->catboost) (2.8.1)\n",
            "Requirement already satisfied: retrying>=1.3.3 in /usr/local/lib/python3.7/dist-packages (from plotly->catboost) (1.3.3)\n",
            "Requirement already satisfied: pyparsing!=2.0.4,!=2.1.2,!=2.1.6,>=2.0.1 in /usr/local/lib/python3.7/dist-packages (from matplotlib->catboost) (2.4.7)\n",
            "Requirement already satisfied: kiwisolver>=1.0.1 in /usr/local/lib/python3.7/dist-packages (from matplotlib->catboost) (1.3.1)\n",
            "Requirement already satisfied: cycler>=0.10 in /usr/local/lib/python3.7/dist-packages (from matplotlib->catboost) (0.10.0)\n"
          ],
          "name": "stdout"
        }
      ]
    },
    {
      "cell_type": "code",
      "metadata": {
        "colab": {
          "base_uri": "https://localhost:8080/"
        },
        "id": "5rTybuObV2q-",
        "outputId": "781bb0a2-99ec-4cac-b920-c91120324221"
      },
      "source": [
        "from catboost import CatBoostClassifier\n",
        "classifier = CatBoostClassifier()\n",
        "classifier.fit(x_train, y_train)"
      ],
      "execution_count": null,
      "outputs": [
        {
          "output_type": "stream",
          "text": [
            "Learning rate set to 0.009807\n",
            "0:\tlearn: 0.6869072\ttotal: 49.6ms\tremaining: 49.5s\n",
            "1:\tlearn: 0.6800464\ttotal: 50.7ms\tremaining: 25.3s\n",
            "2:\tlearn: 0.6737653\ttotal: 51.8ms\tremaining: 17.2s\n",
            "3:\tlearn: 0.6672710\ttotal: 52.9ms\tremaining: 13.2s\n",
            "4:\tlearn: 0.6613521\ttotal: 53.9ms\tremaining: 10.7s\n",
            "5:\tlearn: 0.6550461\ttotal: 55ms\tremaining: 9.11s\n",
            "6:\tlearn: 0.6502814\ttotal: 55.6ms\tremaining: 7.89s\n",
            "7:\tlearn: 0.6442738\ttotal: 56.7ms\tremaining: 7.03s\n",
            "8:\tlearn: 0.6386244\ttotal: 57.8ms\tremaining: 6.36s\n",
            "9:\tlearn: 0.6348023\ttotal: 58.5ms\tremaining: 5.79s\n",
            "10:\tlearn: 0.6298206\ttotal: 59.6ms\tremaining: 5.36s\n",
            "11:\tlearn: 0.6254502\ttotal: 60.6ms\tremaining: 4.99s\n",
            "12:\tlearn: 0.6225412\ttotal: 61.3ms\tremaining: 4.65s\n",
            "13:\tlearn: 0.6195898\ttotal: 62ms\tremaining: 4.36s\n",
            "14:\tlearn: 0.6150049\ttotal: 63.2ms\tremaining: 4.15s\n",
            "15:\tlearn: 0.6103579\ttotal: 64.3ms\tremaining: 3.95s\n",
            "16:\tlearn: 0.6053258\ttotal: 65.8ms\tremaining: 3.8s\n",
            "17:\tlearn: 0.6008433\ttotal: 67ms\tremaining: 3.65s\n",
            "18:\tlearn: 0.5962075\ttotal: 68.2ms\tremaining: 3.52s\n",
            "19:\tlearn: 0.5918162\ttotal: 69.3ms\tremaining: 3.4s\n",
            "20:\tlearn: 0.5867986\ttotal: 70.4ms\tremaining: 3.28s\n",
            "21:\tlearn: 0.5826663\ttotal: 71.6ms\tremaining: 3.18s\n",
            "22:\tlearn: 0.5783855\ttotal: 72.6ms\tremaining: 3.08s\n",
            "23:\tlearn: 0.5752142\ttotal: 73.7ms\tremaining: 3s\n",
            "24:\tlearn: 0.5709256\ttotal: 74.9ms\tremaining: 2.92s\n",
            "25:\tlearn: 0.5675395\ttotal: 75.7ms\tremaining: 2.84s\n",
            "26:\tlearn: 0.5645101\ttotal: 76.8ms\tremaining: 2.77s\n",
            "27:\tlearn: 0.5607971\ttotal: 77.9ms\tremaining: 2.7s\n",
            "28:\tlearn: 0.5569720\ttotal: 79ms\tremaining: 2.64s\n",
            "29:\tlearn: 0.5533812\ttotal: 80.1ms\tremaining: 2.59s\n",
            "30:\tlearn: 0.5502305\ttotal: 81.1ms\tremaining: 2.54s\n",
            "31:\tlearn: 0.5469254\ttotal: 82.2ms\tremaining: 2.49s\n",
            "32:\tlearn: 0.5430768\ttotal: 83.3ms\tremaining: 2.44s\n",
            "33:\tlearn: 0.5395044\ttotal: 84.4ms\tremaining: 2.4s\n",
            "34:\tlearn: 0.5363278\ttotal: 85.5ms\tremaining: 2.36s\n",
            "35:\tlearn: 0.5329122\ttotal: 86.7ms\tremaining: 2.32s\n",
            "36:\tlearn: 0.5300837\ttotal: 87.8ms\tremaining: 2.28s\n",
            "37:\tlearn: 0.5272601\ttotal: 88.9ms\tremaining: 2.25s\n",
            "38:\tlearn: 0.5246022\ttotal: 90ms\tremaining: 2.22s\n",
            "39:\tlearn: 0.5222585\ttotal: 91.2ms\tremaining: 2.19s\n",
            "40:\tlearn: 0.5196785\ttotal: 92.6ms\tremaining: 2.17s\n",
            "41:\tlearn: 0.5169182\ttotal: 93.7ms\tremaining: 2.14s\n",
            "42:\tlearn: 0.5140357\ttotal: 94.9ms\tremaining: 2.11s\n",
            "43:\tlearn: 0.5112411\ttotal: 96ms\tremaining: 2.08s\n",
            "44:\tlearn: 0.5086970\ttotal: 97.2ms\tremaining: 2.06s\n",
            "45:\tlearn: 0.5063654\ttotal: 98.4ms\tremaining: 2.04s\n",
            "46:\tlearn: 0.5042559\ttotal: 99.5ms\tremaining: 2.02s\n",
            "47:\tlearn: 0.5018743\ttotal: 101ms\tremaining: 2s\n",
            "48:\tlearn: 0.5001421\ttotal: 102ms\tremaining: 1.98s\n",
            "49:\tlearn: 0.4976536\ttotal: 103ms\tremaining: 1.96s\n",
            "50:\tlearn: 0.4960286\ttotal: 104ms\tremaining: 1.94s\n",
            "51:\tlearn: 0.4936140\ttotal: 105ms\tremaining: 1.92s\n",
            "52:\tlearn: 0.4918821\ttotal: 107ms\tremaining: 1.9s\n",
            "53:\tlearn: 0.4895111\ttotal: 108ms\tremaining: 1.89s\n",
            "54:\tlearn: 0.4875948\ttotal: 109ms\tremaining: 1.87s\n",
            "55:\tlearn: 0.4857944\ttotal: 110ms\tremaining: 1.86s\n",
            "56:\tlearn: 0.4833525\ttotal: 111ms\tremaining: 1.84s\n",
            "57:\tlearn: 0.4811499\ttotal: 112ms\tremaining: 1.83s\n",
            "58:\tlearn: 0.4792252\ttotal: 114ms\tremaining: 1.81s\n",
            "59:\tlearn: 0.4775890\ttotal: 115ms\tremaining: 1.8s\n",
            "60:\tlearn: 0.4761119\ttotal: 116ms\tremaining: 1.78s\n",
            "61:\tlearn: 0.4741725\ttotal: 117ms\tremaining: 1.77s\n",
            "62:\tlearn: 0.4723140\ttotal: 118ms\tremaining: 1.76s\n",
            "63:\tlearn: 0.4706793\ttotal: 120ms\tremaining: 1.75s\n",
            "64:\tlearn: 0.4685631\ttotal: 121ms\tremaining: 1.74s\n",
            "65:\tlearn: 0.4669944\ttotal: 122ms\tremaining: 1.72s\n",
            "66:\tlearn: 0.4654858\ttotal: 123ms\tremaining: 1.71s\n",
            "67:\tlearn: 0.4635757\ttotal: 124ms\tremaining: 1.7s\n",
            "68:\tlearn: 0.4622410\ttotal: 125ms\tremaining: 1.69s\n",
            "69:\tlearn: 0.4611291\ttotal: 126ms\tremaining: 1.68s\n",
            "70:\tlearn: 0.4599415\ttotal: 127ms\tremaining: 1.67s\n",
            "71:\tlearn: 0.4584417\ttotal: 129ms\tremaining: 1.66s\n",
            "72:\tlearn: 0.4566007\ttotal: 130ms\tremaining: 1.65s\n",
            "73:\tlearn: 0.4553693\ttotal: 131ms\tremaining: 1.64s\n",
            "74:\tlearn: 0.4540055\ttotal: 132ms\tremaining: 1.63s\n",
            "75:\tlearn: 0.4529856\ttotal: 133ms\tremaining: 1.62s\n",
            "76:\tlearn: 0.4518244\ttotal: 134ms\tremaining: 1.61s\n",
            "77:\tlearn: 0.4504638\ttotal: 136ms\tremaining: 1.6s\n",
            "78:\tlearn: 0.4492188\ttotal: 137ms\tremaining: 1.59s\n",
            "79:\tlearn: 0.4477237\ttotal: 138ms\tremaining: 1.59s\n",
            "80:\tlearn: 0.4463597\ttotal: 139ms\tremaining: 1.58s\n",
            "81:\tlearn: 0.4452098\ttotal: 140ms\tremaining: 1.57s\n",
            "82:\tlearn: 0.4437527\ttotal: 141ms\tremaining: 1.56s\n",
            "83:\tlearn: 0.4428099\ttotal: 143ms\tremaining: 1.55s\n",
            "84:\tlearn: 0.4414857\ttotal: 144ms\tremaining: 1.55s\n",
            "85:\tlearn: 0.4404949\ttotal: 145ms\tremaining: 1.54s\n",
            "86:\tlearn: 0.4397678\ttotal: 146ms\tremaining: 1.53s\n",
            "87:\tlearn: 0.4389147\ttotal: 147ms\tremaining: 1.52s\n",
            "88:\tlearn: 0.4379666\ttotal: 148ms\tremaining: 1.52s\n",
            "89:\tlearn: 0.4368010\ttotal: 149ms\tremaining: 1.51s\n",
            "90:\tlearn: 0.4355902\ttotal: 151ms\tremaining: 1.5s\n",
            "91:\tlearn: 0.4348172\ttotal: 152ms\tremaining: 1.5s\n",
            "92:\tlearn: 0.4339121\ttotal: 153ms\tremaining: 1.49s\n",
            "93:\tlearn: 0.4332113\ttotal: 154ms\tremaining: 1.49s\n",
            "94:\tlearn: 0.4322071\ttotal: 155ms\tremaining: 1.48s\n",
            "95:\tlearn: 0.4309920\ttotal: 157ms\tremaining: 1.48s\n",
            "96:\tlearn: 0.4306266\ttotal: 157ms\tremaining: 1.46s\n",
            "97:\tlearn: 0.4296786\ttotal: 158ms\tremaining: 1.46s\n",
            "98:\tlearn: 0.4288689\ttotal: 160ms\tremaining: 1.45s\n",
            "99:\tlearn: 0.4281455\ttotal: 161ms\tremaining: 1.45s\n",
            "100:\tlearn: 0.4269814\ttotal: 162ms\tremaining: 1.44s\n",
            "101:\tlearn: 0.4263491\ttotal: 163ms\tremaining: 1.44s\n",
            "102:\tlearn: 0.4256269\ttotal: 164ms\tremaining: 1.43s\n",
            "103:\tlearn: 0.4246712\ttotal: 166ms\tremaining: 1.43s\n",
            "104:\tlearn: 0.4238708\ttotal: 167ms\tremaining: 1.42s\n",
            "105:\tlearn: 0.4229527\ttotal: 168ms\tremaining: 1.42s\n",
            "106:\tlearn: 0.4223378\ttotal: 169ms\tremaining: 1.41s\n",
            "107:\tlearn: 0.4215408\ttotal: 170ms\tremaining: 1.41s\n",
            "108:\tlearn: 0.4204423\ttotal: 172ms\tremaining: 1.4s\n",
            "109:\tlearn: 0.4195985\ttotal: 173ms\tremaining: 1.4s\n",
            "110:\tlearn: 0.4193840\ttotal: 174ms\tremaining: 1.39s\n",
            "111:\tlearn: 0.4186234\ttotal: 175ms\tremaining: 1.39s\n",
            "112:\tlearn: 0.4181228\ttotal: 176ms\tremaining: 1.38s\n",
            "113:\tlearn: 0.4176014\ttotal: 177ms\tremaining: 1.38s\n",
            "114:\tlearn: 0.4168804\ttotal: 178ms\tremaining: 1.37s\n",
            "115:\tlearn: 0.4160297\ttotal: 180ms\tremaining: 1.37s\n",
            "116:\tlearn: 0.4150697\ttotal: 181ms\tremaining: 1.37s\n",
            "117:\tlearn: 0.4144053\ttotal: 182ms\tremaining: 1.36s\n",
            "118:\tlearn: 0.4135296\ttotal: 183ms\tremaining: 1.36s\n",
            "119:\tlearn: 0.4127376\ttotal: 185ms\tremaining: 1.36s\n",
            "120:\tlearn: 0.4118846\ttotal: 188ms\tremaining: 1.36s\n",
            "121:\tlearn: 0.4112122\ttotal: 189ms\tremaining: 1.36s\n",
            "122:\tlearn: 0.4106920\ttotal: 191ms\tremaining: 1.36s\n",
            "123:\tlearn: 0.4098722\ttotal: 192ms\tremaining: 1.36s\n",
            "124:\tlearn: 0.4092373\ttotal: 194ms\tremaining: 1.35s\n",
            "125:\tlearn: 0.4084232\ttotal: 195ms\tremaining: 1.35s\n",
            "126:\tlearn: 0.4076166\ttotal: 196ms\tremaining: 1.35s\n",
            "127:\tlearn: 0.4073056\ttotal: 197ms\tremaining: 1.34s\n",
            "128:\tlearn: 0.4067746\ttotal: 199ms\tremaining: 1.34s\n",
            "129:\tlearn: 0.4062015\ttotal: 200ms\tremaining: 1.34s\n",
            "130:\tlearn: 0.4053851\ttotal: 201ms\tremaining: 1.33s\n",
            "131:\tlearn: 0.4051461\ttotal: 202ms\tremaining: 1.33s\n",
            "132:\tlearn: 0.4046181\ttotal: 203ms\tremaining: 1.32s\n",
            "133:\tlearn: 0.4040785\ttotal: 204ms\tremaining: 1.32s\n",
            "134:\tlearn: 0.4033754\ttotal: 205ms\tremaining: 1.31s\n",
            "135:\tlearn: 0.4027342\ttotal: 207ms\tremaining: 1.31s\n",
            "136:\tlearn: 0.4020316\ttotal: 208ms\tremaining: 1.31s\n",
            "137:\tlearn: 0.4014980\ttotal: 209ms\tremaining: 1.3s\n",
            "138:\tlearn: 0.4011395\ttotal: 210ms\tremaining: 1.3s\n",
            "139:\tlearn: 0.4008673\ttotal: 211ms\tremaining: 1.3s\n",
            "140:\tlearn: 0.4001631\ttotal: 213ms\tremaining: 1.29s\n",
            "141:\tlearn: 0.3996627\ttotal: 214ms\tremaining: 1.29s\n",
            "142:\tlearn: 0.3991833\ttotal: 215ms\tremaining: 1.29s\n",
            "143:\tlearn: 0.3989430\ttotal: 216ms\tremaining: 1.28s\n",
            "144:\tlearn: 0.3982314\ttotal: 217ms\tremaining: 1.28s\n",
            "145:\tlearn: 0.3978013\ttotal: 218ms\tremaining: 1.28s\n",
            "146:\tlearn: 0.3972272\ttotal: 220ms\tremaining: 1.27s\n",
            "147:\tlearn: 0.3967742\ttotal: 221ms\tremaining: 1.27s\n",
            "148:\tlearn: 0.3962400\ttotal: 222ms\tremaining: 1.27s\n",
            "149:\tlearn: 0.3957587\ttotal: 223ms\tremaining: 1.26s\n",
            "150:\tlearn: 0.3952599\ttotal: 224ms\tremaining: 1.26s\n",
            "151:\tlearn: 0.3949692\ttotal: 226ms\tremaining: 1.26s\n",
            "152:\tlearn: 0.3944511\ttotal: 227ms\tremaining: 1.25s\n",
            "153:\tlearn: 0.3940387\ttotal: 228ms\tremaining: 1.25s\n",
            "154:\tlearn: 0.3939043\ttotal: 229ms\tremaining: 1.25s\n",
            "155:\tlearn: 0.3936540\ttotal: 230ms\tremaining: 1.24s\n",
            "156:\tlearn: 0.3933961\ttotal: 231ms\tremaining: 1.24s\n",
            "157:\tlearn: 0.3930342\ttotal: 232ms\tremaining: 1.24s\n",
            "158:\tlearn: 0.3926186\ttotal: 233ms\tremaining: 1.23s\n",
            "159:\tlearn: 0.3922476\ttotal: 235ms\tremaining: 1.23s\n",
            "160:\tlearn: 0.3920630\ttotal: 236ms\tremaining: 1.23s\n",
            "161:\tlearn: 0.3915876\ttotal: 237ms\tremaining: 1.23s\n",
            "162:\tlearn: 0.3913039\ttotal: 238ms\tremaining: 1.22s\n",
            "163:\tlearn: 0.3907529\ttotal: 240ms\tremaining: 1.22s\n",
            "164:\tlearn: 0.3906087\ttotal: 240ms\tremaining: 1.22s\n",
            "165:\tlearn: 0.3903781\ttotal: 241ms\tremaining: 1.21s\n",
            "166:\tlearn: 0.3899021\ttotal: 243ms\tremaining: 1.21s\n",
            "167:\tlearn: 0.3895691\ttotal: 244ms\tremaining: 1.21s\n",
            "168:\tlearn: 0.3890989\ttotal: 245ms\tremaining: 1.2s\n",
            "169:\tlearn: 0.3886716\ttotal: 246ms\tremaining: 1.2s\n",
            "170:\tlearn: 0.3881283\ttotal: 247ms\tremaining: 1.2s\n",
            "171:\tlearn: 0.3878843\ttotal: 249ms\tremaining: 1.2s\n",
            "172:\tlearn: 0.3876403\ttotal: 250ms\tremaining: 1.19s\n",
            "173:\tlearn: 0.3873566\ttotal: 251ms\tremaining: 1.19s\n",
            "174:\tlearn: 0.3869571\ttotal: 252ms\tremaining: 1.19s\n",
            "175:\tlearn: 0.3866560\ttotal: 253ms\tremaining: 1.19s\n",
            "176:\tlearn: 0.3862854\ttotal: 255ms\tremaining: 1.18s\n",
            "177:\tlearn: 0.3859138\ttotal: 256ms\tremaining: 1.18s\n",
            "178:\tlearn: 0.3855221\ttotal: 257ms\tremaining: 1.18s\n",
            "179:\tlearn: 0.3852876\ttotal: 258ms\tremaining: 1.18s\n",
            "180:\tlearn: 0.3849869\ttotal: 259ms\tremaining: 1.17s\n",
            "181:\tlearn: 0.3846974\ttotal: 260ms\tremaining: 1.17s\n",
            "182:\tlearn: 0.3845987\ttotal: 262ms\tremaining: 1.17s\n",
            "183:\tlearn: 0.3842921\ttotal: 263ms\tremaining: 1.17s\n",
            "184:\tlearn: 0.3840839\ttotal: 264ms\tremaining: 1.16s\n",
            "185:\tlearn: 0.3836334\ttotal: 265ms\tremaining: 1.16s\n",
            "186:\tlearn: 0.3834743\ttotal: 266ms\tremaining: 1.16s\n",
            "187:\tlearn: 0.3833149\ttotal: 268ms\tremaining: 1.16s\n",
            "188:\tlearn: 0.3830401\ttotal: 269ms\tremaining: 1.15s\n",
            "189:\tlearn: 0.3827803\ttotal: 270ms\tremaining: 1.15s\n",
            "190:\tlearn: 0.3824967\ttotal: 271ms\tremaining: 1.15s\n",
            "191:\tlearn: 0.3822653\ttotal: 272ms\tremaining: 1.15s\n",
            "192:\tlearn: 0.3819616\ttotal: 274ms\tremaining: 1.14s\n",
            "193:\tlearn: 0.3817342\ttotal: 275ms\tremaining: 1.14s\n",
            "194:\tlearn: 0.3815549\ttotal: 276ms\tremaining: 1.14s\n",
            "195:\tlearn: 0.3814788\ttotal: 277ms\tremaining: 1.14s\n",
            "196:\tlearn: 0.3812380\ttotal: 278ms\tremaining: 1.13s\n",
            "197:\tlearn: 0.3808773\ttotal: 279ms\tremaining: 1.13s\n",
            "198:\tlearn: 0.3807968\ttotal: 280ms\tremaining: 1.13s\n",
            "199:\tlearn: 0.3805202\ttotal: 281ms\tremaining: 1.12s\n",
            "200:\tlearn: 0.3804449\ttotal: 282ms\tremaining: 1.12s\n",
            "201:\tlearn: 0.3802777\ttotal: 284ms\tremaining: 1.12s\n",
            "202:\tlearn: 0.3800919\ttotal: 285ms\tremaining: 1.12s\n",
            "203:\tlearn: 0.3797380\ttotal: 286ms\tremaining: 1.11s\n",
            "204:\tlearn: 0.3795728\ttotal: 287ms\tremaining: 1.11s\n",
            "205:\tlearn: 0.3794124\ttotal: 288ms\tremaining: 1.11s\n",
            "206:\tlearn: 0.3791492\ttotal: 290ms\tremaining: 1.11s\n",
            "207:\tlearn: 0.3787641\ttotal: 291ms\tremaining: 1.11s\n",
            "208:\tlearn: 0.3786160\ttotal: 292ms\tremaining: 1.1s\n",
            "209:\tlearn: 0.3783238\ttotal: 293ms\tremaining: 1.1s\n",
            "210:\tlearn: 0.3781156\ttotal: 295ms\tremaining: 1.1s\n",
            "211:\tlearn: 0.3780197\ttotal: 296ms\tremaining: 1.1s\n",
            "212:\tlearn: 0.3778698\ttotal: 297ms\tremaining: 1.1s\n",
            "213:\tlearn: 0.3775199\ttotal: 298ms\tremaining: 1.09s\n",
            "214:\tlearn: 0.3771816\ttotal: 300ms\tremaining: 1.09s\n",
            "215:\tlearn: 0.3769342\ttotal: 301ms\tremaining: 1.09s\n",
            "216:\tlearn: 0.3768519\ttotal: 302ms\tremaining: 1.09s\n",
            "217:\tlearn: 0.3767656\ttotal: 303ms\tremaining: 1.09s\n",
            "218:\tlearn: 0.3765378\ttotal: 305ms\tremaining: 1.09s\n",
            "219:\tlearn: 0.3761584\ttotal: 306ms\tremaining: 1.08s\n",
            "220:\tlearn: 0.3758644\ttotal: 307ms\tremaining: 1.08s\n",
            "221:\tlearn: 0.3755769\ttotal: 309ms\tremaining: 1.08s\n",
            "222:\tlearn: 0.3752737\ttotal: 310ms\tremaining: 1.08s\n",
            "223:\tlearn: 0.3748363\ttotal: 311ms\tremaining: 1.08s\n",
            "224:\tlearn: 0.3745141\ttotal: 312ms\tremaining: 1.07s\n",
            "225:\tlearn: 0.3743103\ttotal: 313ms\tremaining: 1.07s\n",
            "226:\tlearn: 0.3740186\ttotal: 315ms\tremaining: 1.07s\n",
            "227:\tlearn: 0.3739261\ttotal: 316ms\tremaining: 1.07s\n",
            "228:\tlearn: 0.3737167\ttotal: 317ms\tremaining: 1.07s\n",
            "229:\tlearn: 0.3733737\ttotal: 318ms\tremaining: 1.06s\n",
            "230:\tlearn: 0.3729932\ttotal: 319ms\tremaining: 1.06s\n",
            "231:\tlearn: 0.3726982\ttotal: 320ms\tremaining: 1.06s\n",
            "232:\tlearn: 0.3724764\ttotal: 322ms\tremaining: 1.06s\n",
            "233:\tlearn: 0.3722832\ttotal: 323ms\tremaining: 1.06s\n",
            "234:\tlearn: 0.3721920\ttotal: 324ms\tremaining: 1.05s\n",
            "235:\tlearn: 0.3721557\ttotal: 324ms\tremaining: 1.05s\n",
            "236:\tlearn: 0.3719447\ttotal: 326ms\tremaining: 1.05s\n",
            "237:\tlearn: 0.3718225\ttotal: 327ms\tremaining: 1.05s\n",
            "238:\tlearn: 0.3716624\ttotal: 328ms\tremaining: 1.04s\n",
            "239:\tlearn: 0.3712529\ttotal: 329ms\tremaining: 1.04s\n",
            "240:\tlearn: 0.3711937\ttotal: 330ms\tremaining: 1.04s\n",
            "241:\tlearn: 0.3710267\ttotal: 331ms\tremaining: 1.04s\n",
            "242:\tlearn: 0.3707780\ttotal: 332ms\tremaining: 1.03s\n",
            "243:\tlearn: 0.3705894\ttotal: 334ms\tremaining: 1.03s\n",
            "244:\tlearn: 0.3704199\ttotal: 335ms\tremaining: 1.03s\n",
            "245:\tlearn: 0.3702802\ttotal: 336ms\tremaining: 1.03s\n",
            "246:\tlearn: 0.3700967\ttotal: 337ms\tremaining: 1.03s\n",
            "247:\tlearn: 0.3699750\ttotal: 338ms\tremaining: 1.03s\n",
            "248:\tlearn: 0.3696605\ttotal: 340ms\tremaining: 1.02s\n",
            "249:\tlearn: 0.3695190\ttotal: 341ms\tremaining: 1.02s\n",
            "250:\tlearn: 0.3692616\ttotal: 342ms\tremaining: 1.02s\n",
            "251:\tlearn: 0.3689842\ttotal: 343ms\tremaining: 1.02s\n",
            "252:\tlearn: 0.3687168\ttotal: 344ms\tremaining: 1.02s\n",
            "253:\tlearn: 0.3685768\ttotal: 345ms\tremaining: 1.01s\n",
            "254:\tlearn: 0.3682707\ttotal: 347ms\tremaining: 1.01s\n",
            "255:\tlearn: 0.3681419\ttotal: 348ms\tremaining: 1.01s\n",
            "256:\tlearn: 0.3677168\ttotal: 349ms\tremaining: 1.01s\n",
            "257:\tlearn: 0.3675087\ttotal: 350ms\tremaining: 1.01s\n",
            "258:\tlearn: 0.3673584\ttotal: 351ms\tremaining: 1s\n",
            "259:\tlearn: 0.3672577\ttotal: 352ms\tremaining: 1s\n",
            "260:\tlearn: 0.3669161\ttotal: 354ms\tremaining: 1s\n",
            "261:\tlearn: 0.3667758\ttotal: 355ms\tremaining: 1000ms\n",
            "262:\tlearn: 0.3665882\ttotal: 356ms\tremaining: 998ms\n",
            "263:\tlearn: 0.3664673\ttotal: 357ms\tremaining: 996ms\n",
            "264:\tlearn: 0.3662901\ttotal: 358ms\tremaining: 994ms\n",
            "265:\tlearn: 0.3662547\ttotal: 359ms\tremaining: 991ms\n",
            "266:\tlearn: 0.3660484\ttotal: 360ms\tremaining: 990ms\n",
            "267:\tlearn: 0.3659400\ttotal: 362ms\tremaining: 988ms\n",
            "268:\tlearn: 0.3657694\ttotal: 363ms\tremaining: 986ms\n",
            "269:\tlearn: 0.3655416\ttotal: 364ms\tremaining: 984ms\n",
            "270:\tlearn: 0.3652696\ttotal: 365ms\tremaining: 982ms\n",
            "271:\tlearn: 0.3651642\ttotal: 366ms\tremaining: 980ms\n",
            "272:\tlearn: 0.3650019\ttotal: 370ms\tremaining: 984ms\n",
            "273:\tlearn: 0.3648551\ttotal: 373ms\tremaining: 987ms\n",
            "274:\tlearn: 0.3645566\ttotal: 374ms\tremaining: 986ms\n",
            "275:\tlearn: 0.3644625\ttotal: 375ms\tremaining: 985ms\n",
            "276:\tlearn: 0.3643469\ttotal: 377ms\tremaining: 983ms\n",
            "277:\tlearn: 0.3642344\ttotal: 378ms\tremaining: 981ms\n",
            "278:\tlearn: 0.3640404\ttotal: 379ms\tremaining: 979ms\n",
            "279:\tlearn: 0.3638496\ttotal: 381ms\tremaining: 978ms\n",
            "280:\tlearn: 0.3637116\ttotal: 382ms\tremaining: 977ms\n",
            "281:\tlearn: 0.3635706\ttotal: 383ms\tremaining: 975ms\n",
            "282:\tlearn: 0.3635428\ttotal: 384ms\tremaining: 972ms\n",
            "283:\tlearn: 0.3632719\ttotal: 385ms\tremaining: 970ms\n",
            "284:\tlearn: 0.3631640\ttotal: 386ms\tremaining: 969ms\n",
            "285:\tlearn: 0.3631467\ttotal: 387ms\tremaining: 966ms\n",
            "286:\tlearn: 0.3629397\ttotal: 388ms\tremaining: 964ms\n",
            "287:\tlearn: 0.3628153\ttotal: 389ms\tremaining: 962ms\n",
            "288:\tlearn: 0.3626383\ttotal: 390ms\tremaining: 960ms\n",
            "289:\tlearn: 0.3625635\ttotal: 391ms\tremaining: 958ms\n",
            "290:\tlearn: 0.3624903\ttotal: 393ms\tremaining: 957ms\n",
            "291:\tlearn: 0.3624242\ttotal: 394ms\tremaining: 955ms\n",
            "292:\tlearn: 0.3622369\ttotal: 395ms\tremaining: 953ms\n",
            "293:\tlearn: 0.3620632\ttotal: 396ms\tremaining: 952ms\n",
            "294:\tlearn: 0.3618209\ttotal: 397ms\tremaining: 950ms\n",
            "295:\tlearn: 0.3616913\ttotal: 399ms\tremaining: 948ms\n",
            "296:\tlearn: 0.3613835\ttotal: 400ms\tremaining: 946ms\n",
            "297:\tlearn: 0.3612480\ttotal: 401ms\tremaining: 945ms\n",
            "298:\tlearn: 0.3611396\ttotal: 402ms\tremaining: 943ms\n",
            "299:\tlearn: 0.3608810\ttotal: 403ms\tremaining: 941ms\n",
            "300:\tlearn: 0.3607693\ttotal: 405ms\tremaining: 940ms\n",
            "301:\tlearn: 0.3606090\ttotal: 406ms\tremaining: 938ms\n",
            "302:\tlearn: 0.3603586\ttotal: 407ms\tremaining: 936ms\n",
            "303:\tlearn: 0.3601363\ttotal: 408ms\tremaining: 935ms\n",
            "304:\tlearn: 0.3598787\ttotal: 409ms\tremaining: 933ms\n",
            "305:\tlearn: 0.3597467\ttotal: 411ms\tremaining: 931ms\n",
            "306:\tlearn: 0.3597000\ttotal: 412ms\tremaining: 929ms\n",
            "307:\tlearn: 0.3594932\ttotal: 413ms\tremaining: 928ms\n",
            "308:\tlearn: 0.3593525\ttotal: 414ms\tremaining: 926ms\n",
            "309:\tlearn: 0.3592498\ttotal: 415ms\tremaining: 924ms\n",
            "310:\tlearn: 0.3590828\ttotal: 417ms\tremaining: 923ms\n",
            "311:\tlearn: 0.3590484\ttotal: 418ms\tremaining: 921ms\n",
            "312:\tlearn: 0.3588856\ttotal: 419ms\tremaining: 919ms\n",
            "313:\tlearn: 0.3587726\ttotal: 420ms\tremaining: 917ms\n",
            "314:\tlearn: 0.3586091\ttotal: 421ms\tremaining: 915ms\n",
            "315:\tlearn: 0.3584123\ttotal: 422ms\tremaining: 914ms\n",
            "316:\tlearn: 0.3583185\ttotal: 423ms\tremaining: 912ms\n",
            "317:\tlearn: 0.3582571\ttotal: 425ms\tremaining: 910ms\n",
            "318:\tlearn: 0.3580293\ttotal: 426ms\tremaining: 909ms\n",
            "319:\tlearn: 0.3579074\ttotal: 427ms\tremaining: 907ms\n",
            "320:\tlearn: 0.3577870\ttotal: 428ms\tremaining: 906ms\n",
            "321:\tlearn: 0.3576399\ttotal: 429ms\tremaining: 904ms\n",
            "322:\tlearn: 0.3575480\ttotal: 433ms\tremaining: 907ms\n",
            "323:\tlearn: 0.3573683\ttotal: 435ms\tremaining: 907ms\n",
            "324:\tlearn: 0.3572542\ttotal: 436ms\tremaining: 906ms\n",
            "325:\tlearn: 0.3570763\ttotal: 439ms\tremaining: 907ms\n",
            "326:\tlearn: 0.3568702\ttotal: 440ms\tremaining: 906ms\n",
            "327:\tlearn: 0.3567722\ttotal: 442ms\tremaining: 906ms\n",
            "328:\tlearn: 0.3566275\ttotal: 443ms\tremaining: 904ms\n",
            "329:\tlearn: 0.3564854\ttotal: 444ms\tremaining: 902ms\n",
            "330:\tlearn: 0.3563171\ttotal: 446ms\tremaining: 901ms\n",
            "331:\tlearn: 0.3561252\ttotal: 447ms\tremaining: 899ms\n",
            "332:\tlearn: 0.3560362\ttotal: 448ms\tremaining: 897ms\n",
            "333:\tlearn: 0.3559867\ttotal: 449ms\tremaining: 896ms\n",
            "334:\tlearn: 0.3558309\ttotal: 450ms\tremaining: 894ms\n",
            "335:\tlearn: 0.3557181\ttotal: 452ms\tremaining: 892ms\n",
            "336:\tlearn: 0.3556771\ttotal: 453ms\tremaining: 891ms\n",
            "337:\tlearn: 0.3554207\ttotal: 454ms\tremaining: 889ms\n",
            "338:\tlearn: 0.3553661\ttotal: 455ms\tremaining: 887ms\n",
            "339:\tlearn: 0.3553624\ttotal: 456ms\tremaining: 885ms\n",
            "340:\tlearn: 0.3550493\ttotal: 457ms\tremaining: 883ms\n",
            "341:\tlearn: 0.3548805\ttotal: 458ms\tremaining: 881ms\n",
            "342:\tlearn: 0.3547984\ttotal: 459ms\tremaining: 880ms\n",
            "343:\tlearn: 0.3547184\ttotal: 460ms\tremaining: 878ms\n",
            "344:\tlearn: 0.3546564\ttotal: 462ms\tremaining: 876ms\n",
            "345:\tlearn: 0.3544966\ttotal: 463ms\tremaining: 875ms\n",
            "346:\tlearn: 0.3543462\ttotal: 464ms\tremaining: 873ms\n",
            "347:\tlearn: 0.3542113\ttotal: 465ms\tremaining: 872ms\n",
            "348:\tlearn: 0.3540268\ttotal: 466ms\tremaining: 870ms\n",
            "349:\tlearn: 0.3538587\ttotal: 468ms\tremaining: 869ms\n",
            "350:\tlearn: 0.3537396\ttotal: 469ms\tremaining: 867ms\n",
            "351:\tlearn: 0.3534192\ttotal: 470ms\tremaining: 866ms\n",
            "352:\tlearn: 0.3532284\ttotal: 471ms\tremaining: 864ms\n",
            "353:\tlearn: 0.3531436\ttotal: 473ms\tremaining: 863ms\n",
            "354:\tlearn: 0.3530991\ttotal: 474ms\tremaining: 861ms\n",
            "355:\tlearn: 0.3530585\ttotal: 475ms\tremaining: 859ms\n",
            "356:\tlearn: 0.3528296\ttotal: 476ms\tremaining: 858ms\n",
            "357:\tlearn: 0.3527043\ttotal: 482ms\tremaining: 864ms\n",
            "358:\tlearn: 0.3526127\ttotal: 484ms\tremaining: 863ms\n",
            "359:\tlearn: 0.3524511\ttotal: 485ms\tremaining: 863ms\n",
            "360:\tlearn: 0.3522801\ttotal: 487ms\tremaining: 863ms\n",
            "361:\tlearn: 0.3521869\ttotal: 489ms\tremaining: 861ms\n",
            "362:\tlearn: 0.3520691\ttotal: 490ms\tremaining: 860ms\n",
            "363:\tlearn: 0.3520088\ttotal: 491ms\tremaining: 858ms\n",
            "364:\tlearn: 0.3518677\ttotal: 492ms\tremaining: 856ms\n",
            "365:\tlearn: 0.3517736\ttotal: 493ms\tremaining: 854ms\n",
            "366:\tlearn: 0.3515818\ttotal: 494ms\tremaining: 853ms\n",
            "367:\tlearn: 0.3513887\ttotal: 495ms\tremaining: 851ms\n",
            "368:\tlearn: 0.3511481\ttotal: 496ms\tremaining: 849ms\n",
            "369:\tlearn: 0.3510802\ttotal: 498ms\tremaining: 847ms\n",
            "370:\tlearn: 0.3509590\ttotal: 499ms\tremaining: 845ms\n",
            "371:\tlearn: 0.3508421\ttotal: 500ms\tremaining: 844ms\n",
            "372:\tlearn: 0.3507164\ttotal: 501ms\tremaining: 842ms\n",
            "373:\tlearn: 0.3506324\ttotal: 502ms\tremaining: 840ms\n",
            "374:\tlearn: 0.3504688\ttotal: 503ms\tremaining: 838ms\n",
            "375:\tlearn: 0.3503483\ttotal: 504ms\tremaining: 837ms\n",
            "376:\tlearn: 0.3502296\ttotal: 505ms\tremaining: 835ms\n",
            "377:\tlearn: 0.3501522\ttotal: 507ms\tremaining: 834ms\n",
            "378:\tlearn: 0.3501228\ttotal: 508ms\tremaining: 832ms\n",
            "379:\tlearn: 0.3500303\ttotal: 509ms\tremaining: 830ms\n",
            "380:\tlearn: 0.3499542\ttotal: 510ms\tremaining: 829ms\n",
            "381:\tlearn: 0.3496976\ttotal: 511ms\tremaining: 827ms\n",
            "382:\tlearn: 0.3496196\ttotal: 512ms\tremaining: 826ms\n",
            "383:\tlearn: 0.3495899\ttotal: 514ms\tremaining: 824ms\n",
            "384:\tlearn: 0.3494741\ttotal: 515ms\tremaining: 822ms\n",
            "385:\tlearn: 0.3493860\ttotal: 516ms\tremaining: 821ms\n",
            "386:\tlearn: 0.3491738\ttotal: 517ms\tremaining: 819ms\n",
            "387:\tlearn: 0.3490264\ttotal: 518ms\tremaining: 818ms\n",
            "388:\tlearn: 0.3487456\ttotal: 519ms\tremaining: 816ms\n",
            "389:\tlearn: 0.3486748\ttotal: 521ms\tremaining: 814ms\n",
            "390:\tlearn: 0.3486138\ttotal: 522ms\tremaining: 813ms\n",
            "391:\tlearn: 0.3484648\ttotal: 523ms\tremaining: 811ms\n",
            "392:\tlearn: 0.3483869\ttotal: 524ms\tremaining: 810ms\n",
            "393:\tlearn: 0.3482795\ttotal: 525ms\tremaining: 808ms\n",
            "394:\tlearn: 0.3482172\ttotal: 527ms\tremaining: 807ms\n",
            "395:\tlearn: 0.3481273\ttotal: 528ms\tremaining: 805ms\n",
            "396:\tlearn: 0.3479770\ttotal: 529ms\tremaining: 804ms\n",
            "397:\tlearn: 0.3478659\ttotal: 530ms\tremaining: 802ms\n",
            "398:\tlearn: 0.3476410\ttotal: 532ms\tremaining: 801ms\n",
            "399:\tlearn: 0.3475735\ttotal: 533ms\tremaining: 799ms\n",
            "400:\tlearn: 0.3474676\ttotal: 534ms\tremaining: 798ms\n",
            "401:\tlearn: 0.3473763\ttotal: 535ms\tremaining: 796ms\n",
            "402:\tlearn: 0.3473031\ttotal: 536ms\tremaining: 795ms\n",
            "403:\tlearn: 0.3472604\ttotal: 538ms\tremaining: 793ms\n",
            "404:\tlearn: 0.3471056\ttotal: 539ms\tremaining: 792ms\n",
            "405:\tlearn: 0.3469886\ttotal: 540ms\tremaining: 791ms\n",
            "406:\tlearn: 0.3468427\ttotal: 542ms\tremaining: 789ms\n",
            "407:\tlearn: 0.3467110\ttotal: 543ms\tremaining: 788ms\n",
            "408:\tlearn: 0.3465419\ttotal: 544ms\tremaining: 786ms\n",
            "409:\tlearn: 0.3462764\ttotal: 545ms\tremaining: 785ms\n",
            "410:\tlearn: 0.3460864\ttotal: 546ms\tremaining: 783ms\n",
            "411:\tlearn: 0.3460267\ttotal: 547ms\tremaining: 781ms\n",
            "412:\tlearn: 0.3460216\ttotal: 548ms\tremaining: 779ms\n",
            "413:\tlearn: 0.3458247\ttotal: 549ms\tremaining: 777ms\n",
            "414:\tlearn: 0.3456877\ttotal: 552ms\tremaining: 778ms\n",
            "415:\tlearn: 0.3455677\ttotal: 555ms\tremaining: 779ms\n",
            "416:\tlearn: 0.3454166\ttotal: 556ms\tremaining: 778ms\n",
            "417:\tlearn: 0.3453556\ttotal: 557ms\tremaining: 776ms\n",
            "418:\tlearn: 0.3452365\ttotal: 558ms\tremaining: 774ms\n",
            "419:\tlearn: 0.3450974\ttotal: 560ms\tremaining: 773ms\n",
            "420:\tlearn: 0.3450137\ttotal: 561ms\tremaining: 771ms\n",
            "421:\tlearn: 0.3449994\ttotal: 561ms\tremaining: 769ms\n",
            "422:\tlearn: 0.3448212\ttotal: 562ms\tremaining: 767ms\n",
            "423:\tlearn: 0.3447209\ttotal: 563ms\tremaining: 766ms\n",
            "424:\tlearn: 0.3445530\ttotal: 565ms\tremaining: 764ms\n",
            "425:\tlearn: 0.3445024\ttotal: 566ms\tremaining: 763ms\n",
            "426:\tlearn: 0.3443174\ttotal: 567ms\tremaining: 761ms\n",
            "427:\tlearn: 0.3442616\ttotal: 568ms\tremaining: 759ms\n",
            "428:\tlearn: 0.3441750\ttotal: 569ms\tremaining: 758ms\n",
            "429:\tlearn: 0.3441640\ttotal: 570ms\tremaining: 755ms\n",
            "430:\tlearn: 0.3440436\ttotal: 571ms\tremaining: 754ms\n",
            "431:\tlearn: 0.3440054\ttotal: 572ms\tremaining: 752ms\n",
            "432:\tlearn: 0.3439406\ttotal: 573ms\tremaining: 751ms\n",
            "433:\tlearn: 0.3438463\ttotal: 574ms\tremaining: 749ms\n",
            "434:\tlearn: 0.3438234\ttotal: 575ms\tremaining: 747ms\n",
            "435:\tlearn: 0.3436637\ttotal: 576ms\tremaining: 745ms\n",
            "436:\tlearn: 0.3436224\ttotal: 577ms\tremaining: 744ms\n",
            "437:\tlearn: 0.3434769\ttotal: 579ms\tremaining: 743ms\n",
            "438:\tlearn: 0.3433085\ttotal: 580ms\tremaining: 741ms\n",
            "439:\tlearn: 0.3431690\ttotal: 581ms\tremaining: 740ms\n",
            "440:\tlearn: 0.3430837\ttotal: 582ms\tremaining: 738ms\n",
            "441:\tlearn: 0.3429634\ttotal: 583ms\tremaining: 737ms\n",
            "442:\tlearn: 0.3428306\ttotal: 585ms\tremaining: 735ms\n",
            "443:\tlearn: 0.3427990\ttotal: 586ms\tremaining: 733ms\n",
            "444:\tlearn: 0.3426998\ttotal: 587ms\tremaining: 732ms\n",
            "445:\tlearn: 0.3425504\ttotal: 588ms\tremaining: 730ms\n",
            "446:\tlearn: 0.3424225\ttotal: 589ms\tremaining: 729ms\n",
            "447:\tlearn: 0.3423363\ttotal: 591ms\tremaining: 728ms\n",
            "448:\tlearn: 0.3422790\ttotal: 592ms\tremaining: 726ms\n",
            "449:\tlearn: 0.3420769\ttotal: 593ms\tremaining: 725ms\n",
            "450:\tlearn: 0.3420229\ttotal: 594ms\tremaining: 724ms\n",
            "451:\tlearn: 0.3418860\ttotal: 596ms\tremaining: 722ms\n",
            "452:\tlearn: 0.3417295\ttotal: 597ms\tremaining: 721ms\n",
            "453:\tlearn: 0.3415924\ttotal: 598ms\tremaining: 719ms\n",
            "454:\tlearn: 0.3414783\ttotal: 599ms\tremaining: 718ms\n",
            "455:\tlearn: 0.3412177\ttotal: 600ms\tremaining: 716ms\n",
            "456:\tlearn: 0.3411595\ttotal: 601ms\tremaining: 715ms\n",
            "457:\tlearn: 0.3411442\ttotal: 602ms\tremaining: 713ms\n",
            "458:\tlearn: 0.3409525\ttotal: 603ms\tremaining: 711ms\n",
            "459:\tlearn: 0.3406849\ttotal: 605ms\tremaining: 710ms\n",
            "460:\tlearn: 0.3405384\ttotal: 606ms\tremaining: 708ms\n",
            "461:\tlearn: 0.3403288\ttotal: 607ms\tremaining: 707ms\n",
            "462:\tlearn: 0.3401848\ttotal: 608ms\tremaining: 705ms\n",
            "463:\tlearn: 0.3398526\ttotal: 609ms\tremaining: 704ms\n",
            "464:\tlearn: 0.3397555\ttotal: 610ms\tremaining: 702ms\n",
            "465:\tlearn: 0.3396611\ttotal: 612ms\tremaining: 701ms\n",
            "466:\tlearn: 0.3396454\ttotal: 612ms\tremaining: 699ms\n",
            "467:\tlearn: 0.3394661\ttotal: 614ms\tremaining: 697ms\n",
            "468:\tlearn: 0.3394052\ttotal: 615ms\tremaining: 696ms\n",
            "469:\tlearn: 0.3392257\ttotal: 616ms\tremaining: 694ms\n",
            "470:\tlearn: 0.3390714\ttotal: 617ms\tremaining: 693ms\n",
            "471:\tlearn: 0.3388256\ttotal: 618ms\tremaining: 692ms\n",
            "472:\tlearn: 0.3387205\ttotal: 619ms\tremaining: 690ms\n",
            "473:\tlearn: 0.3386091\ttotal: 620ms\tremaining: 689ms\n",
            "474:\tlearn: 0.3384940\ttotal: 622ms\tremaining: 687ms\n",
            "475:\tlearn: 0.3383388\ttotal: 623ms\tremaining: 686ms\n",
            "476:\tlearn: 0.3382527\ttotal: 624ms\tremaining: 684ms\n",
            "477:\tlearn: 0.3381005\ttotal: 625ms\tremaining: 683ms\n",
            "478:\tlearn: 0.3380162\ttotal: 626ms\tremaining: 681ms\n",
            "479:\tlearn: 0.3378480\ttotal: 627ms\tremaining: 680ms\n",
            "480:\tlearn: 0.3377641\ttotal: 629ms\tremaining: 678ms\n",
            "481:\tlearn: 0.3376613\ttotal: 630ms\tremaining: 677ms\n",
            "482:\tlearn: 0.3376219\ttotal: 631ms\tremaining: 675ms\n",
            "483:\tlearn: 0.3375285\ttotal: 632ms\tremaining: 674ms\n",
            "484:\tlearn: 0.3374236\ttotal: 633ms\tremaining: 672ms\n",
            "485:\tlearn: 0.3373954\ttotal: 634ms\tremaining: 671ms\n",
            "486:\tlearn: 0.3372765\ttotal: 636ms\tremaining: 670ms\n",
            "487:\tlearn: 0.3371257\ttotal: 637ms\tremaining: 668ms\n",
            "488:\tlearn: 0.3370107\ttotal: 638ms\tremaining: 667ms\n",
            "489:\tlearn: 0.3368543\ttotal: 639ms\tremaining: 665ms\n",
            "490:\tlearn: 0.3367753\ttotal: 640ms\tremaining: 664ms\n",
            "491:\tlearn: 0.3367043\ttotal: 641ms\tremaining: 662ms\n",
            "492:\tlearn: 0.3365610\ttotal: 643ms\tremaining: 661ms\n",
            "493:\tlearn: 0.3365353\ttotal: 644ms\tremaining: 660ms\n",
            "494:\tlearn: 0.3364261\ttotal: 645ms\tremaining: 658ms\n",
            "495:\tlearn: 0.3363956\ttotal: 646ms\tremaining: 657ms\n",
            "496:\tlearn: 0.3363661\ttotal: 647ms\tremaining: 655ms\n",
            "497:\tlearn: 0.3363190\ttotal: 649ms\tremaining: 654ms\n",
            "498:\tlearn: 0.3358570\ttotal: 650ms\tremaining: 652ms\n",
            "499:\tlearn: 0.3357906\ttotal: 651ms\tremaining: 651ms\n",
            "500:\tlearn: 0.3357395\ttotal: 652ms\tremaining: 650ms\n",
            "501:\tlearn: 0.3356487\ttotal: 653ms\tremaining: 648ms\n",
            "502:\tlearn: 0.3354602\ttotal: 654ms\tremaining: 647ms\n",
            "503:\tlearn: 0.3353753\ttotal: 656ms\tremaining: 645ms\n",
            "504:\tlearn: 0.3353304\ttotal: 657ms\tremaining: 644ms\n",
            "505:\tlearn: 0.3352430\ttotal: 658ms\tremaining: 642ms\n",
            "506:\tlearn: 0.3351421\ttotal: 659ms\tremaining: 641ms\n",
            "507:\tlearn: 0.3350645\ttotal: 660ms\tremaining: 639ms\n",
            "508:\tlearn: 0.3350236\ttotal: 661ms\tremaining: 638ms\n",
            "509:\tlearn: 0.3348286\ttotal: 663ms\tremaining: 637ms\n",
            "510:\tlearn: 0.3348071\ttotal: 664ms\tremaining: 635ms\n",
            "511:\tlearn: 0.3346754\ttotal: 665ms\tremaining: 634ms\n",
            "512:\tlearn: 0.3345927\ttotal: 666ms\tremaining: 632ms\n",
            "513:\tlearn: 0.3345274\ttotal: 667ms\tremaining: 631ms\n",
            "514:\tlearn: 0.3344661\ttotal: 668ms\tremaining: 629ms\n",
            "515:\tlearn: 0.3342812\ttotal: 670ms\tremaining: 628ms\n",
            "516:\tlearn: 0.3341998\ttotal: 671ms\tremaining: 627ms\n",
            "517:\tlearn: 0.3341222\ttotal: 672ms\tremaining: 625ms\n",
            "518:\tlearn: 0.3340994\ttotal: 673ms\tremaining: 624ms\n",
            "519:\tlearn: 0.3340582\ttotal: 674ms\tremaining: 623ms\n",
            "520:\tlearn: 0.3339179\ttotal: 676ms\tremaining: 621ms\n",
            "521:\tlearn: 0.3338090\ttotal: 677ms\tremaining: 620ms\n",
            "522:\tlearn: 0.3337096\ttotal: 678ms\tremaining: 618ms\n",
            "523:\tlearn: 0.3336843\ttotal: 679ms\tremaining: 617ms\n",
            "524:\tlearn: 0.3334180\ttotal: 680ms\tremaining: 615ms\n",
            "525:\tlearn: 0.3333505\ttotal: 681ms\tremaining: 614ms\n",
            "526:\tlearn: 0.3332334\ttotal: 682ms\tremaining: 613ms\n",
            "527:\tlearn: 0.3332156\ttotal: 683ms\tremaining: 611ms\n",
            "528:\tlearn: 0.3331282\ttotal: 685ms\tremaining: 610ms\n",
            "529:\tlearn: 0.3327918\ttotal: 686ms\tremaining: 608ms\n",
            "530:\tlearn: 0.3326952\ttotal: 687ms\tremaining: 607ms\n",
            "531:\tlearn: 0.3325360\ttotal: 688ms\tremaining: 605ms\n",
            "532:\tlearn: 0.3325069\ttotal: 689ms\tremaining: 604ms\n",
            "533:\tlearn: 0.3324760\ttotal: 691ms\tremaining: 603ms\n",
            "534:\tlearn: 0.3322932\ttotal: 692ms\tremaining: 601ms\n",
            "535:\tlearn: 0.3321527\ttotal: 693ms\tremaining: 600ms\n",
            "536:\tlearn: 0.3320418\ttotal: 694ms\tremaining: 598ms\n",
            "537:\tlearn: 0.3319580\ttotal: 695ms\tremaining: 597ms\n",
            "538:\tlearn: 0.3317587\ttotal: 696ms\tremaining: 596ms\n",
            "539:\tlearn: 0.3315803\ttotal: 698ms\tremaining: 594ms\n",
            "540:\tlearn: 0.3314964\ttotal: 699ms\tremaining: 593ms\n",
            "541:\tlearn: 0.3313012\ttotal: 700ms\tremaining: 592ms\n",
            "542:\tlearn: 0.3312153\ttotal: 701ms\tremaining: 590ms\n",
            "543:\tlearn: 0.3310064\ttotal: 702ms\tremaining: 589ms\n",
            "544:\tlearn: 0.3309615\ttotal: 704ms\tremaining: 587ms\n",
            "545:\tlearn: 0.3307646\ttotal: 705ms\tremaining: 586ms\n",
            "546:\tlearn: 0.3305078\ttotal: 706ms\tremaining: 585ms\n",
            "547:\tlearn: 0.3303281\ttotal: 707ms\tremaining: 583ms\n",
            "548:\tlearn: 0.3302477\ttotal: 708ms\tremaining: 582ms\n",
            "549:\tlearn: 0.3301253\ttotal: 710ms\tremaining: 581ms\n",
            "550:\tlearn: 0.3299780\ttotal: 711ms\tremaining: 579ms\n",
            "551:\tlearn: 0.3299256\ttotal: 712ms\tremaining: 578ms\n",
            "552:\tlearn: 0.3299069\ttotal: 713ms\tremaining: 576ms\n",
            "553:\tlearn: 0.3298945\ttotal: 714ms\tremaining: 575ms\n",
            "554:\tlearn: 0.3298280\ttotal: 715ms\tremaining: 574ms\n",
            "555:\tlearn: 0.3298262\ttotal: 716ms\tremaining: 572ms\n",
            "556:\tlearn: 0.3297748\ttotal: 717ms\tremaining: 570ms\n",
            "557:\tlearn: 0.3297414\ttotal: 718ms\tremaining: 569ms\n",
            "558:\tlearn: 0.3297047\ttotal: 719ms\tremaining: 568ms\n",
            "559:\tlearn: 0.3295308\ttotal: 721ms\tremaining: 566ms\n",
            "560:\tlearn: 0.3294447\ttotal: 722ms\tremaining: 565ms\n",
            "561:\tlearn: 0.3292456\ttotal: 723ms\tremaining: 563ms\n",
            "562:\tlearn: 0.3291661\ttotal: 724ms\tremaining: 562ms\n",
            "563:\tlearn: 0.3290512\ttotal: 725ms\tremaining: 561ms\n",
            "564:\tlearn: 0.3290445\ttotal: 726ms\tremaining: 559ms\n",
            "565:\tlearn: 0.3288739\ttotal: 727ms\tremaining: 558ms\n",
            "566:\tlearn: 0.3287475\ttotal: 728ms\tremaining: 556ms\n",
            "567:\tlearn: 0.3286301\ttotal: 730ms\tremaining: 555ms\n",
            "568:\tlearn: 0.3285790\ttotal: 731ms\tremaining: 554ms\n",
            "569:\tlearn: 0.3285164\ttotal: 733ms\tremaining: 553ms\n",
            "570:\tlearn: 0.3283073\ttotal: 735ms\tremaining: 552ms\n",
            "571:\tlearn: 0.3282435\ttotal: 737ms\tremaining: 552ms\n",
            "572:\tlearn: 0.3281442\ttotal: 739ms\tremaining: 550ms\n",
            "573:\tlearn: 0.3280079\ttotal: 740ms\tremaining: 549ms\n",
            "574:\tlearn: 0.3279029\ttotal: 741ms\tremaining: 548ms\n",
            "575:\tlearn: 0.3277628\ttotal: 742ms\tremaining: 546ms\n",
            "576:\tlearn: 0.3276435\ttotal: 743ms\tremaining: 545ms\n",
            "577:\tlearn: 0.3274281\ttotal: 744ms\tremaining: 543ms\n",
            "578:\tlearn: 0.3272355\ttotal: 745ms\tremaining: 542ms\n",
            "579:\tlearn: 0.3271503\ttotal: 746ms\tremaining: 540ms\n",
            "580:\tlearn: 0.3270739\ttotal: 747ms\tremaining: 539ms\n",
            "581:\tlearn: 0.3269303\ttotal: 748ms\tremaining: 538ms\n",
            "582:\tlearn: 0.3268255\ttotal: 750ms\tremaining: 536ms\n",
            "583:\tlearn: 0.3267614\ttotal: 751ms\tremaining: 535ms\n",
            "584:\tlearn: 0.3267026\ttotal: 752ms\tremaining: 533ms\n",
            "585:\tlearn: 0.3265577\ttotal: 753ms\tremaining: 532ms\n",
            "586:\tlearn: 0.3264174\ttotal: 754ms\tremaining: 531ms\n",
            "587:\tlearn: 0.3263203\ttotal: 755ms\tremaining: 529ms\n",
            "588:\tlearn: 0.3262486\ttotal: 756ms\tremaining: 528ms\n",
            "589:\tlearn: 0.3261346\ttotal: 757ms\tremaining: 526ms\n",
            "590:\tlearn: 0.3260731\ttotal: 759ms\tremaining: 525ms\n",
            "591:\tlearn: 0.3260427\ttotal: 759ms\tremaining: 523ms\n",
            "592:\tlearn: 0.3259432\ttotal: 760ms\tremaining: 522ms\n",
            "593:\tlearn: 0.3256329\ttotal: 762ms\tremaining: 521ms\n",
            "594:\tlearn: 0.3255909\ttotal: 763ms\tremaining: 519ms\n",
            "595:\tlearn: 0.3254720\ttotal: 764ms\tremaining: 518ms\n",
            "596:\tlearn: 0.3253018\ttotal: 765ms\tremaining: 516ms\n",
            "597:\tlearn: 0.3252049\ttotal: 766ms\tremaining: 515ms\n",
            "598:\tlearn: 0.3251537\ttotal: 767ms\tremaining: 514ms\n",
            "599:\tlearn: 0.3250542\ttotal: 768ms\tremaining: 512ms\n",
            "600:\tlearn: 0.3249320\ttotal: 769ms\tremaining: 511ms\n",
            "601:\tlearn: 0.3247140\ttotal: 771ms\tremaining: 510ms\n",
            "602:\tlearn: 0.3246358\ttotal: 772ms\tremaining: 508ms\n",
            "603:\tlearn: 0.3245392\ttotal: 773ms\tremaining: 507ms\n",
            "604:\tlearn: 0.3244331\ttotal: 774ms\tremaining: 505ms\n",
            "605:\tlearn: 0.3243234\ttotal: 775ms\tremaining: 504ms\n",
            "606:\tlearn: 0.3243084\ttotal: 777ms\tremaining: 503ms\n",
            "607:\tlearn: 0.3241880\ttotal: 778ms\tremaining: 501ms\n",
            "608:\tlearn: 0.3239828\ttotal: 779ms\tremaining: 500ms\n",
            "609:\tlearn: 0.3238401\ttotal: 780ms\tremaining: 499ms\n",
            "610:\tlearn: 0.3236237\ttotal: 781ms\tremaining: 497ms\n",
            "611:\tlearn: 0.3235341\ttotal: 782ms\tremaining: 496ms\n",
            "612:\tlearn: 0.3233525\ttotal: 784ms\tremaining: 495ms\n",
            "613:\tlearn: 0.3232548\ttotal: 785ms\tremaining: 493ms\n",
            "614:\tlearn: 0.3231058\ttotal: 786ms\tremaining: 492ms\n",
            "615:\tlearn: 0.3230615\ttotal: 787ms\tremaining: 491ms\n",
            "616:\tlearn: 0.3228729\ttotal: 788ms\tremaining: 489ms\n",
            "617:\tlearn: 0.3228070\ttotal: 789ms\tremaining: 488ms\n",
            "618:\tlearn: 0.3226571\ttotal: 791ms\tremaining: 487ms\n",
            "619:\tlearn: 0.3226009\ttotal: 792ms\tremaining: 485ms\n",
            "620:\tlearn: 0.3225292\ttotal: 793ms\tremaining: 484ms\n",
            "621:\tlearn: 0.3224804\ttotal: 794ms\tremaining: 483ms\n",
            "622:\tlearn: 0.3223451\ttotal: 795ms\tremaining: 481ms\n",
            "623:\tlearn: 0.3222414\ttotal: 796ms\tremaining: 480ms\n",
            "624:\tlearn: 0.3221550\ttotal: 798ms\tremaining: 479ms\n",
            "625:\tlearn: 0.3220132\ttotal: 799ms\tremaining: 477ms\n",
            "626:\tlearn: 0.3219537\ttotal: 800ms\tremaining: 476ms\n",
            "627:\tlearn: 0.3219389\ttotal: 801ms\tremaining: 474ms\n",
            "628:\tlearn: 0.3218813\ttotal: 802ms\tremaining: 473ms\n",
            "629:\tlearn: 0.3218161\ttotal: 804ms\tremaining: 472ms\n",
            "630:\tlearn: 0.3217223\ttotal: 806ms\tremaining: 471ms\n",
            "631:\tlearn: 0.3214510\ttotal: 807ms\tremaining: 470ms\n",
            "632:\tlearn: 0.3212988\ttotal: 808ms\tremaining: 469ms\n",
            "633:\tlearn: 0.3211125\ttotal: 809ms\tremaining: 467ms\n",
            "634:\tlearn: 0.3209854\ttotal: 810ms\tremaining: 466ms\n",
            "635:\tlearn: 0.3208183\ttotal: 812ms\tremaining: 464ms\n",
            "636:\tlearn: 0.3207520\ttotal: 813ms\tremaining: 463ms\n",
            "637:\tlearn: 0.3206115\ttotal: 814ms\tremaining: 462ms\n",
            "638:\tlearn: 0.3205473\ttotal: 815ms\tremaining: 460ms\n",
            "639:\tlearn: 0.3203938\ttotal: 816ms\tremaining: 459ms\n",
            "640:\tlearn: 0.3202261\ttotal: 817ms\tremaining: 458ms\n",
            "641:\tlearn: 0.3199966\ttotal: 819ms\tremaining: 457ms\n",
            "642:\tlearn: 0.3198933\ttotal: 820ms\tremaining: 455ms\n",
            "643:\tlearn: 0.3197273\ttotal: 821ms\tremaining: 454ms\n",
            "644:\tlearn: 0.3195176\ttotal: 822ms\tremaining: 453ms\n",
            "645:\tlearn: 0.3193690\ttotal: 824ms\tremaining: 451ms\n",
            "646:\tlearn: 0.3192981\ttotal: 825ms\tremaining: 450ms\n",
            "647:\tlearn: 0.3191350\ttotal: 826ms\tremaining: 449ms\n",
            "648:\tlearn: 0.3189841\ttotal: 827ms\tremaining: 447ms\n",
            "649:\tlearn: 0.3189136\ttotal: 829ms\tremaining: 446ms\n",
            "650:\tlearn: 0.3188981\ttotal: 830ms\tremaining: 445ms\n",
            "651:\tlearn: 0.3188533\ttotal: 831ms\tremaining: 444ms\n",
            "652:\tlearn: 0.3186713\ttotal: 832ms\tremaining: 442ms\n",
            "653:\tlearn: 0.3185214\ttotal: 834ms\tremaining: 441ms\n",
            "654:\tlearn: 0.3184307\ttotal: 835ms\tremaining: 440ms\n",
            "655:\tlearn: 0.3183200\ttotal: 836ms\tremaining: 438ms\n",
            "656:\tlearn: 0.3182016\ttotal: 837ms\tremaining: 437ms\n",
            "657:\tlearn: 0.3180860\ttotal: 839ms\tremaining: 436ms\n",
            "658:\tlearn: 0.3178966\ttotal: 840ms\tremaining: 435ms\n",
            "659:\tlearn: 0.3176918\ttotal: 841ms\tremaining: 433ms\n",
            "660:\tlearn: 0.3175853\ttotal: 842ms\tremaining: 432ms\n",
            "661:\tlearn: 0.3175680\ttotal: 843ms\tremaining: 431ms\n",
            "662:\tlearn: 0.3174164\ttotal: 844ms\tremaining: 429ms\n",
            "663:\tlearn: 0.3172850\ttotal: 846ms\tremaining: 428ms\n",
            "664:\tlearn: 0.3172209\ttotal: 847ms\tremaining: 427ms\n",
            "665:\tlearn: 0.3171426\ttotal: 848ms\tremaining: 425ms\n",
            "666:\tlearn: 0.3170499\ttotal: 849ms\tremaining: 424ms\n",
            "667:\tlearn: 0.3170346\ttotal: 850ms\tremaining: 423ms\n",
            "668:\tlearn: 0.3169880\ttotal: 851ms\tremaining: 421ms\n",
            "669:\tlearn: 0.3169395\ttotal: 853ms\tremaining: 420ms\n",
            "670:\tlearn: 0.3168779\ttotal: 854ms\tremaining: 419ms\n",
            "671:\tlearn: 0.3168588\ttotal: 855ms\tremaining: 417ms\n",
            "672:\tlearn: 0.3166591\ttotal: 856ms\tremaining: 416ms\n",
            "673:\tlearn: 0.3165533\ttotal: 857ms\tremaining: 415ms\n",
            "674:\tlearn: 0.3163407\ttotal: 859ms\tremaining: 413ms\n",
            "675:\tlearn: 0.3162572\ttotal: 860ms\tremaining: 412ms\n",
            "676:\tlearn: 0.3161099\ttotal: 861ms\tremaining: 411ms\n",
            "677:\tlearn: 0.3160554\ttotal: 862ms\tremaining: 409ms\n",
            "678:\tlearn: 0.3160092\ttotal: 863ms\tremaining: 408ms\n",
            "679:\tlearn: 0.3159149\ttotal: 864ms\tremaining: 407ms\n",
            "680:\tlearn: 0.3157302\ttotal: 866ms\tremaining: 405ms\n",
            "681:\tlearn: 0.3156179\ttotal: 867ms\tremaining: 404ms\n",
            "682:\tlearn: 0.3155632\ttotal: 868ms\tremaining: 403ms\n",
            "683:\tlearn: 0.3154709\ttotal: 869ms\tremaining: 401ms\n",
            "684:\tlearn: 0.3154139\ttotal: 870ms\tremaining: 400ms\n",
            "685:\tlearn: 0.3153975\ttotal: 871ms\tremaining: 399ms\n",
            "686:\tlearn: 0.3153452\ttotal: 872ms\tremaining: 397ms\n",
            "687:\tlearn: 0.3152602\ttotal: 874ms\tremaining: 396ms\n",
            "688:\tlearn: 0.3151853\ttotal: 875ms\tremaining: 395ms\n",
            "689:\tlearn: 0.3151457\ttotal: 876ms\tremaining: 394ms\n",
            "690:\tlearn: 0.3149172\ttotal: 877ms\tremaining: 392ms\n",
            "691:\tlearn: 0.3148454\ttotal: 878ms\tremaining: 391ms\n",
            "692:\tlearn: 0.3147818\ttotal: 880ms\tremaining: 390ms\n",
            "693:\tlearn: 0.3146669\ttotal: 881ms\tremaining: 388ms\n",
            "694:\tlearn: 0.3145578\ttotal: 882ms\tremaining: 387ms\n",
            "695:\tlearn: 0.3143301\ttotal: 883ms\tremaining: 386ms\n",
            "696:\tlearn: 0.3141742\ttotal: 884ms\tremaining: 384ms\n",
            "697:\tlearn: 0.3141207\ttotal: 885ms\tremaining: 383ms\n",
            "698:\tlearn: 0.3140745\ttotal: 887ms\tremaining: 382ms\n",
            "699:\tlearn: 0.3139240\ttotal: 888ms\tremaining: 381ms\n",
            "700:\tlearn: 0.3137783\ttotal: 889ms\tremaining: 379ms\n",
            "701:\tlearn: 0.3136988\ttotal: 890ms\tremaining: 378ms\n",
            "702:\tlearn: 0.3136084\ttotal: 892ms\tremaining: 377ms\n",
            "703:\tlearn: 0.3135791\ttotal: 893ms\tremaining: 375ms\n",
            "704:\tlearn: 0.3135145\ttotal: 894ms\tremaining: 374ms\n",
            "705:\tlearn: 0.3134669\ttotal: 895ms\tremaining: 373ms\n",
            "706:\tlearn: 0.3131963\ttotal: 896ms\tremaining: 371ms\n",
            "707:\tlearn: 0.3130632\ttotal: 897ms\tremaining: 370ms\n",
            "708:\tlearn: 0.3130188\ttotal: 898ms\tremaining: 369ms\n",
            "709:\tlearn: 0.3129589\ttotal: 899ms\tremaining: 367ms\n",
            "710:\tlearn: 0.3128694\ttotal: 901ms\tremaining: 366ms\n",
            "711:\tlearn: 0.3128398\ttotal: 902ms\tremaining: 365ms\n",
            "712:\tlearn: 0.3127663\ttotal: 903ms\tremaining: 363ms\n",
            "713:\tlearn: 0.3126099\ttotal: 904ms\tremaining: 362ms\n",
            "714:\tlearn: 0.3124699\ttotal: 905ms\tremaining: 361ms\n",
            "715:\tlearn: 0.3122833\ttotal: 906ms\tremaining: 359ms\n",
            "716:\tlearn: 0.3121127\ttotal: 907ms\tremaining: 358ms\n",
            "717:\tlearn: 0.3119831\ttotal: 908ms\tremaining: 357ms\n",
            "718:\tlearn: 0.3118074\ttotal: 910ms\tremaining: 356ms\n",
            "719:\tlearn: 0.3117164\ttotal: 912ms\tremaining: 355ms\n",
            "720:\tlearn: 0.3115527\ttotal: 915ms\tremaining: 354ms\n",
            "721:\tlearn: 0.3114818\ttotal: 918ms\tremaining: 354ms\n",
            "722:\tlearn: 0.3113111\ttotal: 921ms\tremaining: 353ms\n",
            "723:\tlearn: 0.3113021\ttotal: 923ms\tremaining: 352ms\n",
            "724:\tlearn: 0.3112027\ttotal: 925ms\tremaining: 351ms\n",
            "725:\tlearn: 0.3110138\ttotal: 926ms\tremaining: 349ms\n",
            "726:\tlearn: 0.3109194\ttotal: 927ms\tremaining: 348ms\n",
            "727:\tlearn: 0.3107725\ttotal: 928ms\tremaining: 347ms\n",
            "728:\tlearn: 0.3107052\ttotal: 929ms\tremaining: 345ms\n",
            "729:\tlearn: 0.3106222\ttotal: 930ms\tremaining: 344ms\n",
            "730:\tlearn: 0.3105189\ttotal: 932ms\tremaining: 343ms\n",
            "731:\tlearn: 0.3103925\ttotal: 933ms\tremaining: 341ms\n",
            "732:\tlearn: 0.3102954\ttotal: 934ms\tremaining: 340ms\n",
            "733:\tlearn: 0.3102087\ttotal: 935ms\tremaining: 339ms\n",
            "734:\tlearn: 0.3101333\ttotal: 936ms\tremaining: 337ms\n",
            "735:\tlearn: 0.3099610\ttotal: 937ms\tremaining: 336ms\n",
            "736:\tlearn: 0.3098058\ttotal: 938ms\tremaining: 335ms\n",
            "737:\tlearn: 0.3096896\ttotal: 939ms\tremaining: 333ms\n",
            "738:\tlearn: 0.3096136\ttotal: 940ms\tremaining: 332ms\n",
            "739:\tlearn: 0.3095475\ttotal: 941ms\tremaining: 331ms\n",
            "740:\tlearn: 0.3094941\ttotal: 942ms\tremaining: 329ms\n",
            "741:\tlearn: 0.3094321\ttotal: 943ms\tremaining: 328ms\n",
            "742:\tlearn: 0.3092932\ttotal: 945ms\tremaining: 327ms\n",
            "743:\tlearn: 0.3091230\ttotal: 946ms\tremaining: 325ms\n",
            "744:\tlearn: 0.3090154\ttotal: 947ms\tremaining: 324ms\n",
            "745:\tlearn: 0.3089499\ttotal: 948ms\tremaining: 323ms\n",
            "746:\tlearn: 0.3088840\ttotal: 949ms\tremaining: 321ms\n",
            "747:\tlearn: 0.3088248\ttotal: 950ms\tremaining: 320ms\n",
            "748:\tlearn: 0.3086680\ttotal: 951ms\tremaining: 319ms\n",
            "749:\tlearn: 0.3085997\ttotal: 952ms\tremaining: 317ms\n",
            "750:\tlearn: 0.3085383\ttotal: 953ms\tremaining: 316ms\n",
            "751:\tlearn: 0.3084129\ttotal: 954ms\tremaining: 315ms\n",
            "752:\tlearn: 0.3083330\ttotal: 955ms\tremaining: 313ms\n",
            "753:\tlearn: 0.3082570\ttotal: 956ms\tremaining: 312ms\n",
            "754:\tlearn: 0.3081414\ttotal: 958ms\tremaining: 311ms\n",
            "755:\tlearn: 0.3079333\ttotal: 959ms\tremaining: 309ms\n",
            "756:\tlearn: 0.3078348\ttotal: 960ms\tremaining: 308ms\n",
            "757:\tlearn: 0.3077173\ttotal: 961ms\tremaining: 307ms\n",
            "758:\tlearn: 0.3075347\ttotal: 962ms\tremaining: 305ms\n",
            "759:\tlearn: 0.3074777\ttotal: 963ms\tremaining: 304ms\n",
            "760:\tlearn: 0.3073078\ttotal: 964ms\tremaining: 303ms\n",
            "761:\tlearn: 0.3072266\ttotal: 966ms\tremaining: 302ms\n",
            "762:\tlearn: 0.3071773\ttotal: 967ms\tremaining: 300ms\n",
            "763:\tlearn: 0.3070564\ttotal: 968ms\tremaining: 299ms\n",
            "764:\tlearn: 0.3069248\ttotal: 969ms\tremaining: 298ms\n",
            "765:\tlearn: 0.3068065\ttotal: 970ms\tremaining: 296ms\n",
            "766:\tlearn: 0.3066804\ttotal: 972ms\tremaining: 295ms\n",
            "767:\tlearn: 0.3066041\ttotal: 973ms\tremaining: 294ms\n",
            "768:\tlearn: 0.3064949\ttotal: 974ms\tremaining: 293ms\n",
            "769:\tlearn: 0.3064729\ttotal: 975ms\tremaining: 291ms\n",
            "770:\tlearn: 0.3063626\ttotal: 977ms\tremaining: 290ms\n",
            "771:\tlearn: 0.3063071\ttotal: 978ms\tremaining: 289ms\n",
            "772:\tlearn: 0.3062301\ttotal: 979ms\tremaining: 287ms\n",
            "773:\tlearn: 0.3060395\ttotal: 980ms\tremaining: 286ms\n",
            "774:\tlearn: 0.3059334\ttotal: 981ms\tremaining: 285ms\n",
            "775:\tlearn: 0.3058476\ttotal: 982ms\tremaining: 284ms\n",
            "776:\tlearn: 0.3057760\ttotal: 983ms\tremaining: 282ms\n",
            "777:\tlearn: 0.3056440\ttotal: 985ms\tremaining: 281ms\n",
            "778:\tlearn: 0.3054288\ttotal: 986ms\tremaining: 280ms\n",
            "779:\tlearn: 0.3053635\ttotal: 987ms\tremaining: 278ms\n",
            "780:\tlearn: 0.3052424\ttotal: 988ms\tremaining: 277ms\n",
            "781:\tlearn: 0.3049842\ttotal: 989ms\tremaining: 276ms\n",
            "782:\tlearn: 0.3049740\ttotal: 990ms\tremaining: 274ms\n",
            "783:\tlearn: 0.3049114\ttotal: 991ms\tremaining: 273ms\n",
            "784:\tlearn: 0.3048117\ttotal: 992ms\tremaining: 272ms\n",
            "785:\tlearn: 0.3047372\ttotal: 994ms\tremaining: 271ms\n",
            "786:\tlearn: 0.3047029\ttotal: 996ms\tremaining: 269ms\n",
            "787:\tlearn: 0.3046336\ttotal: 997ms\tremaining: 268ms\n",
            "788:\tlearn: 0.3045641\ttotal: 999ms\tremaining: 267ms\n",
            "789:\tlearn: 0.3044522\ttotal: 1s\tremaining: 266ms\n",
            "790:\tlearn: 0.3043339\ttotal: 1s\tremaining: 265ms\n",
            "791:\tlearn: 0.3042670\ttotal: 1s\tremaining: 264ms\n",
            "792:\tlearn: 0.3041855\ttotal: 1.01s\tremaining: 263ms\n",
            "793:\tlearn: 0.3040633\ttotal: 1.01s\tremaining: 262ms\n",
            "794:\tlearn: 0.3039836\ttotal: 1.01s\tremaining: 260ms\n",
            "795:\tlearn: 0.3037432\ttotal: 1.01s\tremaining: 259ms\n",
            "796:\tlearn: 0.3034470\ttotal: 1.01s\tremaining: 258ms\n",
            "797:\tlearn: 0.3033710\ttotal: 1.01s\tremaining: 257ms\n",
            "798:\tlearn: 0.3032313\ttotal: 1.01s\tremaining: 255ms\n",
            "799:\tlearn: 0.3031384\ttotal: 1.02s\tremaining: 254ms\n",
            "800:\tlearn: 0.3030430\ttotal: 1.02s\tremaining: 253ms\n",
            "801:\tlearn: 0.3029632\ttotal: 1.02s\tremaining: 252ms\n",
            "802:\tlearn: 0.3027524\ttotal: 1.02s\tremaining: 250ms\n",
            "803:\tlearn: 0.3025611\ttotal: 1.02s\tremaining: 249ms\n",
            "804:\tlearn: 0.3025163\ttotal: 1.02s\tremaining: 248ms\n",
            "805:\tlearn: 0.3024388\ttotal: 1.02s\tremaining: 247ms\n",
            "806:\tlearn: 0.3023702\ttotal: 1.02s\tremaining: 245ms\n",
            "807:\tlearn: 0.3023205\ttotal: 1.03s\tremaining: 244ms\n",
            "808:\tlearn: 0.3021987\ttotal: 1.03s\tremaining: 243ms\n",
            "809:\tlearn: 0.3020803\ttotal: 1.03s\tremaining: 242ms\n",
            "810:\tlearn: 0.3020513\ttotal: 1.03s\tremaining: 240ms\n",
            "811:\tlearn: 0.3019702\ttotal: 1.03s\tremaining: 239ms\n",
            "812:\tlearn: 0.3018727\ttotal: 1.03s\tremaining: 238ms\n",
            "813:\tlearn: 0.3018668\ttotal: 1.03s\tremaining: 236ms\n",
            "814:\tlearn: 0.3018053\ttotal: 1.03s\tremaining: 235ms\n",
            "815:\tlearn: 0.3017376\ttotal: 1.04s\tremaining: 234ms\n",
            "816:\tlearn: 0.3017123\ttotal: 1.04s\tremaining: 232ms\n",
            "817:\tlearn: 0.3015153\ttotal: 1.04s\tremaining: 231ms\n",
            "818:\tlearn: 0.3014941\ttotal: 1.04s\tremaining: 230ms\n",
            "819:\tlearn: 0.3012667\ttotal: 1.04s\tremaining: 229ms\n",
            "820:\tlearn: 0.3011081\ttotal: 1.04s\tremaining: 227ms\n",
            "821:\tlearn: 0.3010194\ttotal: 1.04s\tremaining: 226ms\n",
            "822:\tlearn: 0.3009801\ttotal: 1.04s\tremaining: 225ms\n",
            "823:\tlearn: 0.3008394\ttotal: 1.05s\tremaining: 224ms\n",
            "824:\tlearn: 0.3006514\ttotal: 1.05s\tremaining: 222ms\n",
            "825:\tlearn: 0.3005976\ttotal: 1.05s\tremaining: 221ms\n",
            "826:\tlearn: 0.3005294\ttotal: 1.05s\tremaining: 220ms\n",
            "827:\tlearn: 0.3004685\ttotal: 1.05s\tremaining: 218ms\n",
            "828:\tlearn: 0.3004210\ttotal: 1.05s\tremaining: 217ms\n",
            "829:\tlearn: 0.3002598\ttotal: 1.05s\tremaining: 216ms\n",
            "830:\tlearn: 0.3001986\ttotal: 1.05s\tremaining: 214ms\n",
            "831:\tlearn: 0.3001519\ttotal: 1.05s\tremaining: 213ms\n",
            "832:\tlearn: 0.3000953\ttotal: 1.06s\tremaining: 212ms\n",
            "833:\tlearn: 0.3000118\ttotal: 1.06s\tremaining: 211ms\n",
            "834:\tlearn: 0.2999398\ttotal: 1.06s\tremaining: 209ms\n",
            "835:\tlearn: 0.2998422\ttotal: 1.06s\tremaining: 208ms\n",
            "836:\tlearn: 0.2997918\ttotal: 1.06s\tremaining: 207ms\n",
            "837:\tlearn: 0.2997329\ttotal: 1.06s\tremaining: 206ms\n",
            "838:\tlearn: 0.2996293\ttotal: 1.06s\tremaining: 204ms\n",
            "839:\tlearn: 0.2994981\ttotal: 1.06s\tremaining: 203ms\n",
            "840:\tlearn: 0.2993602\ttotal: 1.07s\tremaining: 202ms\n",
            "841:\tlearn: 0.2991808\ttotal: 1.07s\tremaining: 200ms\n",
            "842:\tlearn: 0.2990302\ttotal: 1.07s\tremaining: 199ms\n",
            "843:\tlearn: 0.2989702\ttotal: 1.07s\tremaining: 198ms\n",
            "844:\tlearn: 0.2989131\ttotal: 1.07s\tremaining: 197ms\n",
            "845:\tlearn: 0.2988388\ttotal: 1.07s\tremaining: 195ms\n",
            "846:\tlearn: 0.2986388\ttotal: 1.07s\tremaining: 194ms\n",
            "847:\tlearn: 0.2985116\ttotal: 1.07s\tremaining: 193ms\n",
            "848:\tlearn: 0.2984630\ttotal: 1.07s\tremaining: 191ms\n",
            "849:\tlearn: 0.2982977\ttotal: 1.08s\tremaining: 190ms\n",
            "850:\tlearn: 0.2982088\ttotal: 1.08s\tremaining: 189ms\n",
            "851:\tlearn: 0.2980169\ttotal: 1.08s\tremaining: 187ms\n",
            "852:\tlearn: 0.2980028\ttotal: 1.08s\tremaining: 186ms\n",
            "853:\tlearn: 0.2979444\ttotal: 1.08s\tremaining: 185ms\n",
            "854:\tlearn: 0.2978198\ttotal: 1.08s\tremaining: 184ms\n",
            "855:\tlearn: 0.2976926\ttotal: 1.08s\tremaining: 182ms\n",
            "856:\tlearn: 0.2976468\ttotal: 1.08s\tremaining: 181ms\n",
            "857:\tlearn: 0.2975960\ttotal: 1.09s\tremaining: 180ms\n",
            "858:\tlearn: 0.2975381\ttotal: 1.09s\tremaining: 178ms\n",
            "859:\tlearn: 0.2974531\ttotal: 1.09s\tremaining: 177ms\n",
            "860:\tlearn: 0.2973772\ttotal: 1.09s\tremaining: 176ms\n",
            "861:\tlearn: 0.2973335\ttotal: 1.09s\tremaining: 175ms\n",
            "862:\tlearn: 0.2972097\ttotal: 1.09s\tremaining: 174ms\n",
            "863:\tlearn: 0.2970518\ttotal: 1.09s\tremaining: 172ms\n",
            "864:\tlearn: 0.2969742\ttotal: 1.1s\tremaining: 171ms\n",
            "865:\tlearn: 0.2969373\ttotal: 1.1s\tremaining: 170ms\n",
            "866:\tlearn: 0.2968722\ttotal: 1.1s\tremaining: 169ms\n",
            "867:\tlearn: 0.2968187\ttotal: 1.1s\tremaining: 168ms\n",
            "868:\tlearn: 0.2967678\ttotal: 1.1s\tremaining: 166ms\n",
            "869:\tlearn: 0.2967130\ttotal: 1.1s\tremaining: 165ms\n",
            "870:\tlearn: 0.2966326\ttotal: 1.11s\tremaining: 164ms\n",
            "871:\tlearn: 0.2965762\ttotal: 1.11s\tremaining: 163ms\n",
            "872:\tlearn: 0.2964069\ttotal: 1.11s\tremaining: 161ms\n",
            "873:\tlearn: 0.2961930\ttotal: 1.11s\tremaining: 160ms\n",
            "874:\tlearn: 0.2961010\ttotal: 1.11s\tremaining: 159ms\n",
            "875:\tlearn: 0.2960114\ttotal: 1.11s\tremaining: 157ms\n",
            "876:\tlearn: 0.2959138\ttotal: 1.11s\tremaining: 156ms\n",
            "877:\tlearn: 0.2958826\ttotal: 1.11s\tremaining: 155ms\n",
            "878:\tlearn: 0.2956788\ttotal: 1.12s\tremaining: 154ms\n",
            "879:\tlearn: 0.2954679\ttotal: 1.12s\tremaining: 152ms\n",
            "880:\tlearn: 0.2952187\ttotal: 1.12s\tremaining: 151ms\n",
            "881:\tlearn: 0.2949996\ttotal: 1.12s\tremaining: 150ms\n",
            "882:\tlearn: 0.2949334\ttotal: 1.12s\tremaining: 149ms\n",
            "883:\tlearn: 0.2948418\ttotal: 1.12s\tremaining: 147ms\n",
            "884:\tlearn: 0.2947797\ttotal: 1.12s\tremaining: 146ms\n",
            "885:\tlearn: 0.2946183\ttotal: 1.12s\tremaining: 145ms\n",
            "886:\tlearn: 0.2945149\ttotal: 1.13s\tremaining: 143ms\n",
            "887:\tlearn: 0.2942551\ttotal: 1.13s\tremaining: 142ms\n",
            "888:\tlearn: 0.2941952\ttotal: 1.13s\tremaining: 141ms\n",
            "889:\tlearn: 0.2941308\ttotal: 1.13s\tremaining: 140ms\n",
            "890:\tlearn: 0.2940490\ttotal: 1.13s\tremaining: 138ms\n",
            "891:\tlearn: 0.2939708\ttotal: 1.13s\tremaining: 137ms\n",
            "892:\tlearn: 0.2938588\ttotal: 1.13s\tremaining: 136ms\n",
            "893:\tlearn: 0.2937644\ttotal: 1.13s\tremaining: 135ms\n",
            "894:\tlearn: 0.2936946\ttotal: 1.14s\tremaining: 133ms\n",
            "895:\tlearn: 0.2936086\ttotal: 1.14s\tremaining: 132ms\n",
            "896:\tlearn: 0.2935334\ttotal: 1.14s\tremaining: 131ms\n",
            "897:\tlearn: 0.2933273\ttotal: 1.14s\tremaining: 129ms\n",
            "898:\tlearn: 0.2932739\ttotal: 1.14s\tremaining: 128ms\n",
            "899:\tlearn: 0.2931595\ttotal: 1.14s\tremaining: 127ms\n",
            "900:\tlearn: 0.2930802\ttotal: 1.14s\tremaining: 126ms\n",
            "901:\tlearn: 0.2930313\ttotal: 1.14s\tremaining: 124ms\n",
            "902:\tlearn: 0.2927762\ttotal: 1.15s\tremaining: 123ms\n",
            "903:\tlearn: 0.2926913\ttotal: 1.15s\tremaining: 122ms\n",
            "904:\tlearn: 0.2926229\ttotal: 1.15s\tremaining: 120ms\n",
            "905:\tlearn: 0.2925831\ttotal: 1.15s\tremaining: 119ms\n",
            "906:\tlearn: 0.2925398\ttotal: 1.15s\tremaining: 118ms\n",
            "907:\tlearn: 0.2924451\ttotal: 1.15s\tremaining: 117ms\n",
            "908:\tlearn: 0.2923806\ttotal: 1.15s\tremaining: 116ms\n",
            "909:\tlearn: 0.2923156\ttotal: 1.16s\tremaining: 114ms\n",
            "910:\tlearn: 0.2921194\ttotal: 1.16s\tremaining: 113ms\n",
            "911:\tlearn: 0.2918742\ttotal: 1.16s\tremaining: 112ms\n",
            "912:\tlearn: 0.2917473\ttotal: 1.16s\tremaining: 111ms\n",
            "913:\tlearn: 0.2916871\ttotal: 1.16s\tremaining: 109ms\n",
            "914:\tlearn: 0.2915418\ttotal: 1.16s\tremaining: 108ms\n",
            "915:\tlearn: 0.2914492\ttotal: 1.17s\tremaining: 107ms\n",
            "916:\tlearn: 0.2912509\ttotal: 1.17s\tremaining: 106ms\n",
            "917:\tlearn: 0.2912072\ttotal: 1.17s\tremaining: 104ms\n",
            "918:\tlearn: 0.2910560\ttotal: 1.17s\tremaining: 103ms\n",
            "919:\tlearn: 0.2909334\ttotal: 1.17s\tremaining: 102ms\n",
            "920:\tlearn: 0.2907915\ttotal: 1.17s\tremaining: 101ms\n",
            "921:\tlearn: 0.2906325\ttotal: 1.17s\tremaining: 99.2ms\n",
            "922:\tlearn: 0.2905894\ttotal: 1.17s\tremaining: 98ms\n",
            "923:\tlearn: 0.2905299\ttotal: 1.18s\tremaining: 96.7ms\n",
            "924:\tlearn: 0.2904716\ttotal: 1.18s\tremaining: 95.4ms\n",
            "925:\tlearn: 0.2903981\ttotal: 1.18s\tremaining: 94.1ms\n",
            "926:\tlearn: 0.2902094\ttotal: 1.18s\tremaining: 92.9ms\n",
            "927:\tlearn: 0.2901304\ttotal: 1.18s\tremaining: 91.6ms\n",
            "928:\tlearn: 0.2900442\ttotal: 1.18s\tremaining: 90.3ms\n",
            "929:\tlearn: 0.2899970\ttotal: 1.18s\tremaining: 89ms\n",
            "930:\tlearn: 0.2899223\ttotal: 1.18s\tremaining: 87.8ms\n",
            "931:\tlearn: 0.2897842\ttotal: 1.19s\tremaining: 86.5ms\n",
            "932:\tlearn: 0.2897100\ttotal: 1.19s\tremaining: 85.2ms\n",
            "933:\tlearn: 0.2896551\ttotal: 1.19s\tremaining: 83.9ms\n",
            "934:\tlearn: 0.2895518\ttotal: 1.19s\tremaining: 82.7ms\n",
            "935:\tlearn: 0.2894749\ttotal: 1.19s\tremaining: 81.4ms\n",
            "936:\tlearn: 0.2893996\ttotal: 1.19s\tremaining: 80.1ms\n",
            "937:\tlearn: 0.2892494\ttotal: 1.19s\tremaining: 78.8ms\n",
            "938:\tlearn: 0.2891072\ttotal: 1.19s\tremaining: 77.6ms\n",
            "939:\tlearn: 0.2890616\ttotal: 1.2s\tremaining: 76.3ms\n",
            "940:\tlearn: 0.2888912\ttotal: 1.2s\tremaining: 75ms\n",
            "941:\tlearn: 0.2888316\ttotal: 1.2s\tremaining: 73.7ms\n",
            "942:\tlearn: 0.2887270\ttotal: 1.2s\tremaining: 72.4ms\n",
            "943:\tlearn: 0.2886706\ttotal: 1.2s\tremaining: 71.2ms\n",
            "944:\tlearn: 0.2886007\ttotal: 1.2s\tremaining: 69.9ms\n",
            "945:\tlearn: 0.2885582\ttotal: 1.2s\tremaining: 68.6ms\n",
            "946:\tlearn: 0.2884888\ttotal: 1.2s\tremaining: 67.3ms\n",
            "947:\tlearn: 0.2884258\ttotal: 1.2s\tremaining: 66.1ms\n",
            "948:\tlearn: 0.2883249\ttotal: 1.21s\tremaining: 64.8ms\n",
            "949:\tlearn: 0.2882392\ttotal: 1.21s\tremaining: 63.5ms\n",
            "950:\tlearn: 0.2881861\ttotal: 1.21s\tremaining: 62.2ms\n",
            "951:\tlearn: 0.2881357\ttotal: 1.21s\tremaining: 61ms\n",
            "952:\tlearn: 0.2879796\ttotal: 1.21s\tremaining: 59.7ms\n",
            "953:\tlearn: 0.2879255\ttotal: 1.21s\tremaining: 58.4ms\n",
            "954:\tlearn: 0.2878688\ttotal: 1.21s\tremaining: 57.2ms\n",
            "955:\tlearn: 0.2878138\ttotal: 1.21s\tremaining: 55.9ms\n",
            "956:\tlearn: 0.2877651\ttotal: 1.22s\tremaining: 54.6ms\n",
            "957:\tlearn: 0.2876894\ttotal: 1.22s\tremaining: 53.3ms\n",
            "958:\tlearn: 0.2876078\ttotal: 1.22s\tremaining: 52.1ms\n",
            "959:\tlearn: 0.2874611\ttotal: 1.22s\tremaining: 50.8ms\n",
            "960:\tlearn: 0.2873119\ttotal: 1.22s\tremaining: 49.5ms\n",
            "961:\tlearn: 0.2872573\ttotal: 1.22s\tremaining: 48.2ms\n",
            "962:\tlearn: 0.2871626\ttotal: 1.22s\tremaining: 47ms\n",
            "963:\tlearn: 0.2870972\ttotal: 1.22s\tremaining: 45.7ms\n",
            "964:\tlearn: 0.2870457\ttotal: 1.22s\tremaining: 44.4ms\n",
            "965:\tlearn: 0.2869912\ttotal: 1.23s\tremaining: 43.1ms\n",
            "966:\tlearn: 0.2868113\ttotal: 1.23s\tremaining: 41.9ms\n",
            "967:\tlearn: 0.2867515\ttotal: 1.23s\tremaining: 40.6ms\n",
            "968:\tlearn: 0.2864823\ttotal: 1.23s\tremaining: 39.3ms\n",
            "969:\tlearn: 0.2862761\ttotal: 1.23s\tremaining: 38.1ms\n",
            "970:\tlearn: 0.2862229\ttotal: 1.23s\tremaining: 36.8ms\n",
            "971:\tlearn: 0.2861704\ttotal: 1.23s\tremaining: 35.5ms\n",
            "972:\tlearn: 0.2860047\ttotal: 1.23s\tremaining: 34.2ms\n",
            "973:\tlearn: 0.2859509\ttotal: 1.24s\tremaining: 33ms\n",
            "974:\tlearn: 0.2857737\ttotal: 1.24s\tremaining: 31.7ms\n",
            "975:\tlearn: 0.2857408\ttotal: 1.24s\tremaining: 30.4ms\n",
            "976:\tlearn: 0.2857115\ttotal: 1.24s\tremaining: 29.2ms\n",
            "977:\tlearn: 0.2856341\ttotal: 1.24s\tremaining: 27.9ms\n",
            "978:\tlearn: 0.2855858\ttotal: 1.24s\tremaining: 26.6ms\n",
            "979:\tlearn: 0.2854187\ttotal: 1.24s\tremaining: 25.4ms\n",
            "980:\tlearn: 0.2853524\ttotal: 1.24s\tremaining: 24.1ms\n",
            "981:\tlearn: 0.2852663\ttotal: 1.25s\tremaining: 22.8ms\n",
            "982:\tlearn: 0.2850752\ttotal: 1.25s\tremaining: 21.6ms\n",
            "983:\tlearn: 0.2849383\ttotal: 1.25s\tremaining: 20.3ms\n",
            "984:\tlearn: 0.2848692\ttotal: 1.25s\tremaining: 19ms\n",
            "985:\tlearn: 0.2847231\ttotal: 1.25s\tremaining: 17.7ms\n",
            "986:\tlearn: 0.2846601\ttotal: 1.25s\tremaining: 16.5ms\n",
            "987:\tlearn: 0.2845825\ttotal: 1.25s\tremaining: 15.2ms\n",
            "988:\tlearn: 0.2845646\ttotal: 1.25s\tremaining: 13.9ms\n",
            "989:\tlearn: 0.2844718\ttotal: 1.25s\tremaining: 12.7ms\n",
            "990:\tlearn: 0.2844208\ttotal: 1.25s\tremaining: 11.4ms\n",
            "991:\tlearn: 0.2843980\ttotal: 1.26s\tremaining: 10.1ms\n",
            "992:\tlearn: 0.2843546\ttotal: 1.26s\tremaining: 8.87ms\n",
            "993:\tlearn: 0.2841786\ttotal: 1.26s\tremaining: 7.6ms\n",
            "994:\tlearn: 0.2841375\ttotal: 1.26s\tremaining: 6.33ms\n",
            "995:\tlearn: 0.2841014\ttotal: 1.26s\tremaining: 5.07ms\n",
            "996:\tlearn: 0.2839790\ttotal: 1.26s\tremaining: 3.8ms\n",
            "997:\tlearn: 0.2838293\ttotal: 1.26s\tremaining: 2.53ms\n",
            "998:\tlearn: 0.2837914\ttotal: 1.26s\tremaining: 1.27ms\n",
            "999:\tlearn: 0.2837210\ttotal: 1.27s\tremaining: 0us\n"
          ],
          "name": "stdout"
        },
        {
          "output_type": "execute_result",
          "data": {
            "text/plain": [
              "<catboost.core.CatBoostClassifier at 0x7f05971e4710>"
            ]
          },
          "metadata": {
            "tags": []
          },
          "execution_count": 27
        }
      ]
    },
    {
      "cell_type": "markdown",
      "metadata": {
        "id": "pkwnKNExehxy"
      },
      "source": [
        "# Predicting Result"
      ]
    },
    {
      "cell_type": "code",
      "metadata": {
        "colab": {
          "base_uri": "https://localhost:8080/"
        },
        "id": "tS2_6ETUgtlA",
        "outputId": "6d49d3f0-6889-4b07-af67-e1c727242163"
      },
      "source": [
        "array_sum = np.sum(x_test)\n",
        "np.isnan(array_sum)"
      ],
      "execution_count": null,
      "outputs": [
        {
          "output_type": "execute_result",
          "data": {
            "text/plain": [
              "False"
            ]
          },
          "metadata": {
            "tags": []
          },
          "execution_count": 28
        }
      ]
    },
    {
      "cell_type": "code",
      "metadata": {
        "colab": {
          "base_uri": "https://localhost:8080/"
        },
        "id": "ZgJtP5K5emiZ",
        "outputId": "c5d1b05b-5ec5-4bb1-e0b2-bde904698f39"
      },
      "source": [
        "print(classifier.score(x_train,y_train))"
      ],
      "execution_count": null,
      "outputs": [
        {
          "output_type": "stream",
          "text": [
            "0.5387205387205387\n"
          ],
          "name": "stdout"
        }
      ]
    },
    {
      "cell_type": "code",
      "metadata": {
        "id": "-bnzUdejiIpe"
      },
      "source": [
        "y_pred = classifier.predict(x_test)"
      ],
      "execution_count": null,
      "outputs": []
    },
    {
      "cell_type": "code",
      "metadata": {
        "colab": {
          "base_uri": "https://localhost:8080/"
        },
        "id": "iVDTIFiblhCr",
        "outputId": "7dc526ab-386c-4f94-df8f-7724c3b5cb0d"
      },
      "source": [
        "from sklearn.metrics import confusion_matrix, accuracy_score\n",
        "y_test = gender_dataset.iloc[:,1:2]\n",
        "cm = confusion_matrix(y_test, y_pred)\n",
        "print(cm)\n",
        "accuracy_score(y_test,y_pred)"
      ],
      "execution_count": null,
      "outputs": [
        {
          "output_type": "stream",
          "text": [
            "[[246  20]\n",
            " [ 30 122]]\n"
          ],
          "name": "stdout"
        },
        {
          "output_type": "execute_result",
          "data": {
            "text/plain": [
              "0.8803827751196173"
            ]
          },
          "metadata": {
            "tags": []
          },
          "execution_count": 37
        }
      ]
    }
  ]
}