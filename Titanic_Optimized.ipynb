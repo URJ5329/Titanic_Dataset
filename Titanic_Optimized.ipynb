{
  "nbformat": 4,
  "nbformat_minor": 0,
  "metadata": {
    "colab": {
      "name": "Titanic_Optimized.ipynb",
      "provenance": [],
      "collapsed_sections": []
    },
    "kernelspec": {
      "name": "python3",
      "display_name": "Python 3"
    }
  },
  "cells": [
    {
      "cell_type": "code",
      "metadata": {
        "id": "LtXjBsT_NZlt"
      },
      "source": [
        "import numpy as np\r\n",
        "import pandas as pd\r\n",
        "import seaborn as sns\r\n",
        "import matplotlib.pyplot as plt"
      ],
      "execution_count": 26,
      "outputs": []
    },
    {
      "cell_type": "code",
      "metadata": {
        "id": "4ugOkVonN2ww"
      },
      "source": [
        "gender_dataset = pd.read_csv('gender_submission.csv')\r\n",
        "training_set = pd.read_csv('train.csv')\r\n",
        "test_set = pd.read_csv('test.csv')"
      ],
      "execution_count": 27,
      "outputs": []
    },
    {
      "cell_type": "markdown",
      "metadata": {
        "id": "NCj02Sdwd_J4"
      },
      "source": [
        "# Data Preprocessing"
      ]
    },
    {
      "cell_type": "markdown",
      "metadata": {
        "id": "gIlRu6NSeETa"
      },
      "source": [
        "## Eliminating missing Data"
      ]
    },
    {
      "cell_type": "code",
      "metadata": {
        "id": "qlSDzkRfkEi_"
      },
      "source": [
        "from sklearn.impute import SimpleImputer\r\n",
        "imputer_age = SimpleImputer(missing_values=np.nan, strategy='median')\r\n",
        "imputer_embarked = SimpleImputer(missing_values=np.nan, strategy='most_frequent')\r\n",
        "imputer_fare = SimpleImputer(missing_values=np.nan, strategy='most_frequent')"
      ],
      "execution_count": 28,
      "outputs": []
    },
    {
      "cell_type": "markdown",
      "metadata": {
        "id": "ihngy8rKeaqE"
      },
      "source": [
        "### Training set"
      ]
    },
    {
      "cell_type": "code",
      "metadata": {
        "id": "Rb-ggAQGaR1y"
      },
      "source": [
        "imputer_age.fit(training_set.iloc[:, 5:6])\r\n",
        "training_set.iloc[:, 5:6] = imputer_age.transform(training_set.iloc[:, 5:6])\r\n",
        "imputer_embarked.fit(training_set.iloc[:, 11:12])\r\n",
        "training_set.iloc[:, 11:12] = imputer_embarked.transform(training_set.iloc[:, 11:12])"
      ],
      "execution_count": 29,
      "outputs": []
    },
    {
      "cell_type": "markdown",
      "metadata": {
        "id": "qurMDFArjmCi"
      },
      "source": [
        "### Test Set"
      ]
    },
    {
      "cell_type": "code",
      "metadata": {
        "id": "MeV1b35BjqfN"
      },
      "source": [
        "imputer_age.fit(test_set.iloc[:, 4:5])\r\n",
        "test_set.iloc[:, 4:5] = imputer_age.transform(test_set.iloc[:, 4:5])\r\n",
        "imputer_embarked.fit(test_set.iloc[:, 10:11])\r\n",
        "test_set.iloc[:, 10:11] = imputer_embarked.transform(test_set.iloc[:, 10:11])\r\n",
        "imputer_fare.fit(test_set.iloc[:, 8:9])\r\n",
        "test_set.iloc[:, 8:9] = imputer_fare.transform(test_set.iloc[:, 8:9])"
      ],
      "execution_count": 30,
      "outputs": []
    },
    {
      "cell_type": "markdown",
      "metadata": {
        "id": "iD9qw3oJl-Fi"
      },
      "source": [
        "## Encoding Columns"
      ]
    },
    {
      "cell_type": "markdown",
      "metadata": {
        "id": "1-7Zu4IInMSh"
      },
      "source": [
        "### Training Set"
      ]
    },
    {
      "cell_type": "code",
      "metadata": {
        "id": "Cb0OiuggQVYb"
      },
      "source": [
        "from sklearn.compose import ColumnTransformer\r\n",
        "from sklearn.preprocessing import OneHotEncoder\r\n",
        "ct = ColumnTransformer(transformers=[('encoder', OneHotEncoder(), [2,4,11])], remainder='passthrough')\r\n",
        "training_set = np.array(ct.fit_transform(training_set))"
      ],
      "execution_count": 31,
      "outputs": []
    },
    {
      "cell_type": "markdown",
      "metadata": {
        "id": "inx0PdpfIK7E"
      },
      "source": [
        "### Test Set"
      ]
    },
    {
      "cell_type": "code",
      "metadata": {
        "id": "MFcoWYqHIYFm"
      },
      "source": [
        "ct1 = ColumnTransformer(transformers=[('encoder', OneHotEncoder(), [1,3,10])], remainder='passthrough')\r\n",
        "test_set = np.array(ct1.fit_transform(test_set))"
      ],
      "execution_count": 32,
      "outputs": []
    },
    {
      "cell_type": "markdown",
      "metadata": {
        "id": "yZESZSSOHM6V"
      },
      "source": [
        "### Removing Dummy Variables"
      ]
    },
    {
      "cell_type": "code",
      "metadata": {
        "id": "fe-iyAYNHSyS"
      },
      "source": [
        "training_set = training_set[:,[1,2,4,6,7,9,11,12,13,15,16]]"
      ],
      "execution_count": 33,
      "outputs": []
    },
    {
      "cell_type": "code",
      "metadata": {
        "id": "nVnOMM8TJgfr"
      },
      "source": [
        "test_set = test_set[:,[1,2,4,6,7,10,11,12,14]]#if want cabin..inc. 15 too"
      ],
      "execution_count": 34,
      "outputs": []
    },
    {
      "cell_type": "markdown",
      "metadata": {
        "id": "-9MR02jCMFlm"
      },
      "source": [
        "## Splitting the dataset"
      ]
    },
    {
      "cell_type": "markdown",
      "metadata": {
        "id": "Jx498DypMLU0"
      },
      "source": [
        "### Training Set"
      ]
    },
    {
      "cell_type": "code",
      "metadata": {
        "id": "yVisbIlqMQXp"
      },
      "source": [
        "x_train = training_set[:, [0,1,2,3,4,6,7,8,9]] #not inc. cabin\r\n",
        "y_train = training_set[:,5:6]\r\n",
        "y_train=y_train.astype('int')"
      ],
      "execution_count": 35,
      "outputs": []
    },
    {
      "cell_type": "markdown",
      "metadata": {
        "id": "xVltkoRLOBZK"
      },
      "source": [
        "### Test Set"
      ]
    },
    {
      "cell_type": "code",
      "metadata": {
        "id": "K33BnNNlOHiG"
      },
      "source": [
        "x_test = test_set"
      ],
      "execution_count": 36,
      "outputs": []
    },
    {
      "cell_type": "markdown",
      "metadata": {
        "id": "wPFdiZ-uOsAW"
      },
      "source": [
        "## Feature Scaling"
      ]
    },
    {
      "cell_type": "code",
      "metadata": {
        "id": "Z8_7dMopOxzc"
      },
      "source": [
        "from sklearn.preprocessing import StandardScaler\r\n",
        "sc = StandardScaler()"
      ],
      "execution_count": 37,
      "outputs": []
    },
    {
      "cell_type": "markdown",
      "metadata": {
        "id": "PDVt5ttBPN4u"
      },
      "source": [
        "###   Training Set"
      ]
    },
    {
      "cell_type": "code",
      "metadata": {
        "id": "T8QmmNj0PWJO"
      },
      "source": [
        "x_train[:, [5,6,7,8]] = sc.fit_transform(x_train[:, [5,6,7,8]])"
      ],
      "execution_count": 38,
      "outputs": []
    },
    {
      "cell_type": "markdown",
      "metadata": {
        "id": "FrGkG3k9PXaf"
      },
      "source": [
        "### Test Set"
      ]
    },
    {
      "cell_type": "code",
      "metadata": {
        "id": "FH6Z_w51PZvM"
      },
      "source": [
        "x_test[:, [5,6,7,8]] = sc.transform(x_test[:,[5,6,7,8]])"
      ],
      "execution_count": 39,
      "outputs": []
    },
    {
      "cell_type": "markdown",
      "metadata": {
        "id": "RZ8_UFmIV4MS"
      },
      "source": [
        "# Model Selection"
      ]
    },
    {
      "cell_type": "code",
      "metadata": {
        "colab": {
          "base_uri": "https://localhost:8080/"
        },
        "id": "5rTybuObV2q-",
        "outputId": "52c37c47-a660-491f-97b8-ce59732e4e53"
      },
      "source": [
        "from sklearn.svm import SVC\r\n",
        "classifier = SVC(kernel = 'rbf',gamma='auto')\r\n",
        "classifier.fit(x_train, y_train)"
      ],
      "execution_count": 64,
      "outputs": [
        {
          "output_type": "stream",
          "text": [
            "/usr/local/lib/python3.7/dist-packages/sklearn/utils/validation.py:760: DataConversionWarning: A column-vector y was passed when a 1d array was expected. Please change the shape of y to (n_samples, ), for example using ravel().\n",
            "  y = column_or_1d(y, warn=True)\n"
          ],
          "name": "stderr"
        },
        {
          "output_type": "execute_result",
          "data": {
            "text/plain": [
              "SVC(C=1.0, break_ties=False, cache_size=200, class_weight=None, coef0=0.0,\n",
              "    decision_function_shape='ovr', degree=3, gamma='auto', kernel='rbf',\n",
              "    max_iter=-1, probability=False, random_state=None, shrinking=True,\n",
              "    tol=0.001, verbose=False)"
            ]
          },
          "metadata": {
            "tags": []
          },
          "execution_count": 64
        }
      ]
    },
    {
      "cell_type": "markdown",
      "metadata": {
        "id": "pkwnKNExehxy"
      },
      "source": [
        "# Predicting Result"
      ]
    },
    {
      "cell_type": "code",
      "metadata": {
        "colab": {
          "base_uri": "https://localhost:8080/"
        },
        "id": "ZgJtP5K5emiZ",
        "outputId": "a991498c-70ce-4b62-a27f-1e6d62c419c8"
      },
      "source": [
        "print(classifier.score(x_train,y_train))"
      ],
      "execution_count": 65,
      "outputs": [
        {
          "output_type": "stream",
          "text": [
            "0.8327721661054994\n"
          ],
          "name": "stdout"
        }
      ]
    },
    {
      "cell_type": "code",
      "metadata": {
        "id": "-bnzUdejiIpe"
      },
      "source": [
        "y_pred = classifier.predict(x_test)"
      ],
      "execution_count": 66,
      "outputs": []
    },
    {
      "cell_type": "markdown",
      "metadata": {
        "id": "3WfHyC7JPJ-e"
      },
      "source": [
        "## Confusion Matrix and Accuracy Score"
      ]
    },
    {
      "cell_type": "code",
      "metadata": {
        "colab": {
          "base_uri": "https://localhost:8080/"
        },
        "id": "iVDTIFiblhCr",
        "outputId": "2b252d90-e1a5-4309-f37a-9e84168f0f89"
      },
      "source": [
        "from sklearn.metrics import confusion_matrix, accuracy_score\r\n",
        "y_test = gender_dataset.iloc[:,1:2]\r\n",
        "cm = confusion_matrix(y_test, y_pred)\r\n",
        "print(cm)\r\n",
        "accuracy_score(y_test,y_pred)"
      ],
      "execution_count": 67,
      "outputs": [
        {
          "output_type": "stream",
          "text": [
            "[[253  13]\n",
            " [  9 143]]\n"
          ],
          "name": "stdout"
        },
        {
          "output_type": "execute_result",
          "data": {
            "text/plain": [
              "0.9473684210526315"
            ]
          },
          "metadata": {
            "tags": []
          },
          "execution_count": 67
        }
      ]
    },
    {
      "cell_type": "markdown",
      "metadata": {
        "id": "O-Lm2Ttra30F"
      },
      "source": [
        "# Converting to .csv"
      ]
    },
    {
      "cell_type": "markdown",
      "metadata": {
        "id": "-0yCLin1bBYc"
      },
      "source": [
        "## Creating a pd dataframe"
      ]
    },
    {
      "cell_type": "code",
      "metadata": {
        "colab": {
          "base_uri": "https://localhost:8080/",
          "height": 204
        },
        "id": "MD993wVhavXU",
        "outputId": "e74d9be0-029c-4c51-d6cf-75ad307a1664"
      },
      "source": [
        "y_pred_1 = pd.DataFrame(y_pred)\r\n",
        "y_pred_2 = pd.DataFrame(gender_dataset.iloc[:,0:1])\r\n",
        "y_final = pd.concat([y_pred_2,y_pred_1],axis = 1)\r\n",
        "y_final.rename({0: 'Survived'},axis=1,inplace=True)\r\n",
        "y_final.head()"
      ],
      "execution_count": 88,
      "outputs": [
        {
          "output_type": "execute_result",
          "data": {
            "text/html": [
              "<div>\n",
              "<style scoped>\n",
              "    .dataframe tbody tr th:only-of-type {\n",
              "        vertical-align: middle;\n",
              "    }\n",
              "\n",
              "    .dataframe tbody tr th {\n",
              "        vertical-align: top;\n",
              "    }\n",
              "\n",
              "    .dataframe thead th {\n",
              "        text-align: right;\n",
              "    }\n",
              "</style>\n",
              "<table border=\"1\" class=\"dataframe\">\n",
              "  <thead>\n",
              "    <tr style=\"text-align: right;\">\n",
              "      <th></th>\n",
              "      <th>PassengerId</th>\n",
              "      <th>Survived</th>\n",
              "    </tr>\n",
              "  </thead>\n",
              "  <tbody>\n",
              "    <tr>\n",
              "      <th>0</th>\n",
              "      <td>892</td>\n",
              "      <td>0</td>\n",
              "    </tr>\n",
              "    <tr>\n",
              "      <th>1</th>\n",
              "      <td>893</td>\n",
              "      <td>1</td>\n",
              "    </tr>\n",
              "    <tr>\n",
              "      <th>2</th>\n",
              "      <td>894</td>\n",
              "      <td>0</td>\n",
              "    </tr>\n",
              "    <tr>\n",
              "      <th>3</th>\n",
              "      <td>895</td>\n",
              "      <td>0</td>\n",
              "    </tr>\n",
              "    <tr>\n",
              "      <th>4</th>\n",
              "      <td>896</td>\n",
              "      <td>1</td>\n",
              "    </tr>\n",
              "  </tbody>\n",
              "</table>\n",
              "</div>"
            ],
            "text/plain": [
              "   PassengerId  Survived\n",
              "0          892         0\n",
              "1          893         1\n",
              "2          894         0\n",
              "3          895         0\n",
              "4          896         1"
            ]
          },
          "metadata": {
            "tags": []
          },
          "execution_count": 88
        }
      ]
    },
    {
      "cell_type": "markdown",
      "metadata": {
        "id": "yDEx_hkjglvx"
      },
      "source": [
        "## Exporting it to .csv format"
      ]
    },
    {
      "cell_type": "code",
      "metadata": {
        "colab": {
          "base_uri": "https://localhost:8080/"
        },
        "id": "gt0WHfJEVmU8",
        "outputId": "c3d59252-f2ce-497b-fa6d-4b2c264ca723"
      },
      "source": [
        "y_final.to_csv('my_submission.csv',index = False)"
      ],
      "execution_count": 90,
      "outputs": [
        {
          "output_type": "stream",
          "text": [
            "Your submission is saved\n",
            "     PassengerId  Survived\n",
            "0            892         0\n",
            "1            893         1\n",
            "2            894         0\n",
            "3            895         0\n",
            "4            896         1\n",
            "..           ...       ...\n",
            "413         1305         0\n",
            "414         1306         1\n",
            "415         1307         0\n",
            "416         1308         0\n",
            "417         1309         0\n",
            "\n",
            "[418 rows x 2 columns]\n"
          ],
          "name": "stdout"
        }
      ]
    }
  ]
}